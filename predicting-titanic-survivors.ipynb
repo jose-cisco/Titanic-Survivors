{
 "cells": [
  {
   "cell_type": "code",
   "execution_count": 1,
   "id": "ff536d55",
   "metadata": {
    "_cell_guid": "b1076dfc-b9ad-4769-8c92-a6c4dae69d19",
    "_uuid": "8f2839f25d086af736a60e9eeb907d3b93b6e0e5",
    "execution": {
     "iopub.execute_input": "2024-01-01T05:59:44.196804Z",
     "iopub.status.busy": "2024-01-01T05:59:44.196297Z",
     "iopub.status.idle": "2024-01-01T05:59:45.220873Z",
     "shell.execute_reply": "2024-01-01T05:59:45.221315Z",
     "shell.execute_reply.started": "2024-01-01T05:54:37.512525Z"
    },
    "papermill": {
     "duration": 1.072456,
     "end_time": "2024-01-01T05:59:45.221631",
     "exception": false,
     "start_time": "2024-01-01T05:59:44.149175",
     "status": "completed"
    },
    "tags": []
   },
   "outputs": [],
   "source": [
    "## Import basic libraries\n",
    "\n",
    "import numpy as np\n",
    "import pandas as pd\n",
    "import matplotlib.pyplot as plt\n",
    "import seaborn as sns"
   ]
  },
  {
   "cell_type": "markdown",
   "id": "26b9f65a",
   "metadata": {
    "papermill": {
     "duration": 0.030652,
     "end_time": "2024-01-01T05:59:45.284334",
     "exception": false,
     "start_time": "2024-01-01T05:59:45.253682",
     "status": "completed"
    },
    "tags": []
   },
   "source": [
    "# Data"
   ]
  },
  {
   "cell_type": "code",
   "execution_count": 2,
   "id": "a2de76e1",
   "metadata": {
    "_cell_guid": "79c7e3d0-c299-4dcb-8224-4455121ee9b0",
    "_uuid": "d629ff2d2480ee46fbb7e2d37f6b5fab8052498a",
    "execution": {
     "iopub.execute_input": "2024-01-01T05:59:45.351834Z",
     "iopub.status.busy": "2024-01-01T05:59:45.351276Z",
     "iopub.status.idle": "2024-01-01T05:59:45.377872Z",
     "shell.execute_reply": "2024-01-01T05:59:45.378320Z",
     "shell.execute_reply.started": "2024-01-01T05:54:37.519941Z"
    },
    "papermill": {
     "duration": 0.061561,
     "end_time": "2024-01-01T05:59:45.378445",
     "exception": false,
     "start_time": "2024-01-01T05:59:45.316884",
     "status": "completed"
    },
    "tags": []
   },
   "outputs": [
    {
     "data": {
      "text/html": [
       "<div>\n",
       "<style scoped>\n",
       "    .dataframe tbody tr th:only-of-type {\n",
       "        vertical-align: middle;\n",
       "    }\n",
       "\n",
       "    .dataframe tbody tr th {\n",
       "        vertical-align: top;\n",
       "    }\n",
       "\n",
       "    .dataframe thead th {\n",
       "        text-align: right;\n",
       "    }\n",
       "</style>\n",
       "<table border=\"1\" class=\"dataframe\">\n",
       "  <thead>\n",
       "    <tr style=\"text-align: right;\">\n",
       "      <th></th>\n",
       "      <th>PassengerId</th>\n",
       "      <th>Survived</th>\n",
       "      <th>Pclass</th>\n",
       "      <th>Name</th>\n",
       "      <th>Sex</th>\n",
       "      <th>Age</th>\n",
       "      <th>SibSp</th>\n",
       "      <th>Parch</th>\n",
       "      <th>Ticket</th>\n",
       "      <th>Fare</th>\n",
       "      <th>Cabin</th>\n",
       "      <th>Embarked</th>\n",
       "    </tr>\n",
       "  </thead>\n",
       "  <tbody>\n",
       "    <tr>\n",
       "      <th>0</th>\n",
       "      <td>1</td>\n",
       "      <td>0</td>\n",
       "      <td>3</td>\n",
       "      <td>Braund, Mr. Owen Harris</td>\n",
       "      <td>male</td>\n",
       "      <td>22.0</td>\n",
       "      <td>1</td>\n",
       "      <td>0</td>\n",
       "      <td>A/5 21171</td>\n",
       "      <td>7.2500</td>\n",
       "      <td>NaN</td>\n",
       "      <td>S</td>\n",
       "    </tr>\n",
       "    <tr>\n",
       "      <th>1</th>\n",
       "      <td>2</td>\n",
       "      <td>1</td>\n",
       "      <td>1</td>\n",
       "      <td>Cumings, Mrs. John Bradley (Florence Briggs Th...</td>\n",
       "      <td>female</td>\n",
       "      <td>38.0</td>\n",
       "      <td>1</td>\n",
       "      <td>0</td>\n",
       "      <td>PC 17599</td>\n",
       "      <td>71.2833</td>\n",
       "      <td>C85</td>\n",
       "      <td>C</td>\n",
       "    </tr>\n",
       "    <tr>\n",
       "      <th>2</th>\n",
       "      <td>3</td>\n",
       "      <td>1</td>\n",
       "      <td>3</td>\n",
       "      <td>Heikkinen, Miss. Laina</td>\n",
       "      <td>female</td>\n",
       "      <td>26.0</td>\n",
       "      <td>0</td>\n",
       "      <td>0</td>\n",
       "      <td>STON/O2. 3101282</td>\n",
       "      <td>7.9250</td>\n",
       "      <td>NaN</td>\n",
       "      <td>S</td>\n",
       "    </tr>\n",
       "    <tr>\n",
       "      <th>3</th>\n",
       "      <td>4</td>\n",
       "      <td>1</td>\n",
       "      <td>1</td>\n",
       "      <td>Futrelle, Mrs. Jacques Heath (Lily May Peel)</td>\n",
       "      <td>female</td>\n",
       "      <td>35.0</td>\n",
       "      <td>1</td>\n",
       "      <td>0</td>\n",
       "      <td>113803</td>\n",
       "      <td>53.1000</td>\n",
       "      <td>C123</td>\n",
       "      <td>S</td>\n",
       "    </tr>\n",
       "    <tr>\n",
       "      <th>4</th>\n",
       "      <td>5</td>\n",
       "      <td>0</td>\n",
       "      <td>3</td>\n",
       "      <td>Allen, Mr. William Henry</td>\n",
       "      <td>male</td>\n",
       "      <td>35.0</td>\n",
       "      <td>0</td>\n",
       "      <td>0</td>\n",
       "      <td>373450</td>\n",
       "      <td>8.0500</td>\n",
       "      <td>NaN</td>\n",
       "      <td>S</td>\n",
       "    </tr>\n",
       "  </tbody>\n",
       "</table>\n",
       "</div>"
      ],
      "text/plain": [
       "   PassengerId  Survived  Pclass  \\\n",
       "0            1         0       3   \n",
       "1            2         1       1   \n",
       "2            3         1       3   \n",
       "3            4         1       1   \n",
       "4            5         0       3   \n",
       "\n",
       "                                                Name     Sex   Age  SibSp  \\\n",
       "0                            Braund, Mr. Owen Harris    male  22.0      1   \n",
       "1  Cumings, Mrs. John Bradley (Florence Briggs Th...  female  38.0      1   \n",
       "2                             Heikkinen, Miss. Laina  female  26.0      0   \n",
       "3       Futrelle, Mrs. Jacques Heath (Lily May Peel)  female  35.0      1   \n",
       "4                           Allen, Mr. William Henry    male  35.0      0   \n",
       "\n",
       "   Parch            Ticket     Fare Cabin Embarked  \n",
       "0      0         A/5 21171   7.2500   NaN        S  \n",
       "1      0          PC 17599  71.2833   C85        C  \n",
       "2      0  STON/O2. 3101282   7.9250   NaN        S  \n",
       "3      0            113803  53.1000  C123        S  \n",
       "4      0            373450   8.0500   NaN        S  "
      ]
     },
     "execution_count": 2,
     "metadata": {},
     "output_type": "execute_result"
    }
   ],
   "source": [
    "data = pd.read_csv('/kaggle/input/titanic/train.csv')\n",
    "data.head()"
   ]
  },
  {
   "cell_type": "code",
   "execution_count": 3,
   "id": "40e51485",
   "metadata": {
    "execution": {
     "iopub.execute_input": "2024-01-01T05:59:45.451746Z",
     "iopub.status.busy": "2024-01-01T05:59:45.445912Z",
     "iopub.status.idle": "2024-01-01T05:59:45.454607Z",
     "shell.execute_reply": "2024-01-01T05:59:45.454261Z",
     "shell.execute_reply.started": "2024-01-01T05:54:37.552209Z"
    },
    "papermill": {
     "duration": 0.044363,
     "end_time": "2024-01-01T05:59:45.454725",
     "exception": false,
     "start_time": "2024-01-01T05:59:45.410362",
     "status": "completed"
    },
    "tags": []
   },
   "outputs": [
    {
     "name": "stdout",
     "output_type": "stream",
     "text": [
      "<class 'pandas.core.frame.DataFrame'>\n",
      "RangeIndex: 891 entries, 0 to 890\n",
      "Data columns (total 12 columns):\n",
      " #   Column       Non-Null Count  Dtype  \n",
      "---  ------       --------------  -----  \n",
      " 0   PassengerId  891 non-null    int64  \n",
      " 1   Survived     891 non-null    int64  \n",
      " 2   Pclass       891 non-null    int64  \n",
      " 3   Name         891 non-null    object \n",
      " 4   Sex          891 non-null    object \n",
      " 5   Age          714 non-null    float64\n",
      " 6   SibSp        891 non-null    int64  \n",
      " 7   Parch        891 non-null    int64  \n",
      " 8   Ticket       891 non-null    object \n",
      " 9   Fare         891 non-null    float64\n",
      " 10  Cabin        204 non-null    object \n",
      " 11  Embarked     889 non-null    object \n",
      "dtypes: float64(2), int64(5), object(5)\n",
      "memory usage: 83.7+ KB\n"
     ]
    }
   ],
   "source": [
    "data.info()"
   ]
  },
  {
   "cell_type": "code",
   "execution_count": 4,
   "id": "b10af396",
   "metadata": {
    "execution": {
     "iopub.execute_input": "2024-01-01T05:59:45.522787Z",
     "iopub.status.busy": "2024-01-01T05:59:45.522247Z",
     "iopub.status.idle": "2024-01-01T05:59:45.542124Z",
     "shell.execute_reply": "2024-01-01T05:59:45.542517Z",
     "shell.execute_reply.started": "2024-01-01T05:54:37.565402Z"
    },
    "papermill": {
     "duration": 0.056598,
     "end_time": "2024-01-01T05:59:45.542644",
     "exception": false,
     "start_time": "2024-01-01T05:59:45.486046",
     "status": "completed"
    },
    "tags": []
   },
   "outputs": [
    {
     "data": {
      "text/html": [
       "<div>\n",
       "<style scoped>\n",
       "    .dataframe tbody tr th:only-of-type {\n",
       "        vertical-align: middle;\n",
       "    }\n",
       "\n",
       "    .dataframe tbody tr th {\n",
       "        vertical-align: top;\n",
       "    }\n",
       "\n",
       "    .dataframe thead th {\n",
       "        text-align: right;\n",
       "    }\n",
       "</style>\n",
       "<table border=\"1\" class=\"dataframe\">\n",
       "  <thead>\n",
       "    <tr style=\"text-align: right;\">\n",
       "      <th></th>\n",
       "      <th>PassengerId</th>\n",
       "      <th>Survived</th>\n",
       "      <th>Pclass</th>\n",
       "      <th>Age</th>\n",
       "      <th>SibSp</th>\n",
       "      <th>Parch</th>\n",
       "      <th>Fare</th>\n",
       "    </tr>\n",
       "  </thead>\n",
       "  <tbody>\n",
       "    <tr>\n",
       "      <th>count</th>\n",
       "      <td>891.000000</td>\n",
       "      <td>891.000000</td>\n",
       "      <td>891.000000</td>\n",
       "      <td>714.000000</td>\n",
       "      <td>891.000000</td>\n",
       "      <td>891.000000</td>\n",
       "      <td>891.000000</td>\n",
       "    </tr>\n",
       "    <tr>\n",
       "      <th>mean</th>\n",
       "      <td>446.000000</td>\n",
       "      <td>0.383838</td>\n",
       "      <td>2.308642</td>\n",
       "      <td>29.699118</td>\n",
       "      <td>0.523008</td>\n",
       "      <td>0.381594</td>\n",
       "      <td>32.204208</td>\n",
       "    </tr>\n",
       "    <tr>\n",
       "      <th>std</th>\n",
       "      <td>257.353842</td>\n",
       "      <td>0.486592</td>\n",
       "      <td>0.836071</td>\n",
       "      <td>14.526497</td>\n",
       "      <td>1.102743</td>\n",
       "      <td>0.806057</td>\n",
       "      <td>49.693429</td>\n",
       "    </tr>\n",
       "    <tr>\n",
       "      <th>min</th>\n",
       "      <td>1.000000</td>\n",
       "      <td>0.000000</td>\n",
       "      <td>1.000000</td>\n",
       "      <td>0.420000</td>\n",
       "      <td>0.000000</td>\n",
       "      <td>0.000000</td>\n",
       "      <td>0.000000</td>\n",
       "    </tr>\n",
       "    <tr>\n",
       "      <th>25%</th>\n",
       "      <td>223.500000</td>\n",
       "      <td>0.000000</td>\n",
       "      <td>2.000000</td>\n",
       "      <td>20.125000</td>\n",
       "      <td>0.000000</td>\n",
       "      <td>0.000000</td>\n",
       "      <td>7.910400</td>\n",
       "    </tr>\n",
       "    <tr>\n",
       "      <th>50%</th>\n",
       "      <td>446.000000</td>\n",
       "      <td>0.000000</td>\n",
       "      <td>3.000000</td>\n",
       "      <td>28.000000</td>\n",
       "      <td>0.000000</td>\n",
       "      <td>0.000000</td>\n",
       "      <td>14.454200</td>\n",
       "    </tr>\n",
       "    <tr>\n",
       "      <th>75%</th>\n",
       "      <td>668.500000</td>\n",
       "      <td>1.000000</td>\n",
       "      <td>3.000000</td>\n",
       "      <td>38.000000</td>\n",
       "      <td>1.000000</td>\n",
       "      <td>0.000000</td>\n",
       "      <td>31.000000</td>\n",
       "    </tr>\n",
       "    <tr>\n",
       "      <th>max</th>\n",
       "      <td>891.000000</td>\n",
       "      <td>1.000000</td>\n",
       "      <td>3.000000</td>\n",
       "      <td>80.000000</td>\n",
       "      <td>8.000000</td>\n",
       "      <td>6.000000</td>\n",
       "      <td>512.329200</td>\n",
       "    </tr>\n",
       "  </tbody>\n",
       "</table>\n",
       "</div>"
      ],
      "text/plain": [
       "       PassengerId    Survived      Pclass         Age       SibSp  \\\n",
       "count   891.000000  891.000000  891.000000  714.000000  891.000000   \n",
       "mean    446.000000    0.383838    2.308642   29.699118    0.523008   \n",
       "std     257.353842    0.486592    0.836071   14.526497    1.102743   \n",
       "min       1.000000    0.000000    1.000000    0.420000    0.000000   \n",
       "25%     223.500000    0.000000    2.000000   20.125000    0.000000   \n",
       "50%     446.000000    0.000000    3.000000   28.000000    0.000000   \n",
       "75%     668.500000    1.000000    3.000000   38.000000    1.000000   \n",
       "max     891.000000    1.000000    3.000000   80.000000    8.000000   \n",
       "\n",
       "            Parch        Fare  \n",
       "count  891.000000  891.000000  \n",
       "mean     0.381594   32.204208  \n",
       "std      0.806057   49.693429  \n",
       "min      0.000000    0.000000  \n",
       "25%      0.000000    7.910400  \n",
       "50%      0.000000   14.454200  \n",
       "75%      0.000000   31.000000  \n",
       "max      6.000000  512.329200  "
      ]
     },
     "execution_count": 4,
     "metadata": {},
     "output_type": "execute_result"
    }
   ],
   "source": [
    "data.describe()"
   ]
  },
  {
   "cell_type": "code",
   "execution_count": 5,
   "id": "a26976d0",
   "metadata": {
    "execution": {
     "iopub.execute_input": "2024-01-01T05:59:45.610242Z",
     "iopub.status.busy": "2024-01-01T05:59:45.609781Z",
     "iopub.status.idle": "2024-01-01T05:59:45.612274Z",
     "shell.execute_reply": "2024-01-01T05:59:45.611864Z",
     "shell.execute_reply.started": "2024-01-01T05:54:37.609890Z"
    },
    "papermill": {
     "duration": 0.037584,
     "end_time": "2024-01-01T05:59:45.612384",
     "exception": false,
     "start_time": "2024-01-01T05:59:45.574800",
     "status": "completed"
    },
    "tags": []
   },
   "outputs": [],
   "source": [
    "# remove unwanted attributes\n",
    "data = data.drop(['PassengerId','Ticket'], axis=1)"
   ]
  },
  {
   "cell_type": "markdown",
   "id": "305d5c34",
   "metadata": {
    "papermill": {
     "duration": 0.031545,
     "end_time": "2024-01-01T05:59:45.675611",
     "exception": false,
     "start_time": "2024-01-01T05:59:45.644066",
     "status": "completed"
    },
    "tags": []
   },
   "source": [
    "# Feature Extraction"
   ]
  },
  {
   "cell_type": "markdown",
   "id": "aa935d9e",
   "metadata": {
    "papermill": {
     "duration": 0.031457,
     "end_time": "2024-01-01T05:59:45.738763",
     "exception": false,
     "start_time": "2024-01-01T05:59:45.707306",
     "status": "completed"
    },
    "tags": []
   },
   "source": [
    "## Cabin"
   ]
  },
  {
   "cell_type": "code",
   "execution_count": 6,
   "id": "a94ff064",
   "metadata": {
    "execution": {
     "iopub.execute_input": "2024-01-01T05:59:45.807130Z",
     "iopub.status.busy": "2024-01-01T05:59:45.806589Z",
     "iopub.status.idle": "2024-01-01T05:59:45.809407Z",
     "shell.execute_reply": "2024-01-01T05:59:45.809014Z",
     "shell.execute_reply.started": "2024-01-01T05:54:37.616875Z"
    },
    "papermill": {
     "duration": 0.039089,
     "end_time": "2024-01-01T05:59:45.809498",
     "exception": false,
     "start_time": "2024-01-01T05:59:45.770409",
     "status": "completed"
    },
    "tags": []
   },
   "outputs": [
    {
     "data": {
      "text/plain": [
       "array([nan, 'C85', 'C123', 'E46', 'G6', 'C103', 'D56', 'A6',\n",
       "       'C23 C25 C27', 'B78', 'D33', 'B30', 'C52', 'B28', 'C83', 'F33',\n",
       "       'F G73', 'E31', 'A5', 'D10 D12', 'D26', 'C110', 'B58 B60', 'E101',\n",
       "       'F E69', 'D47', 'B86', 'F2', 'C2', 'E33', 'B19', 'A7', 'C49', 'F4',\n",
       "       'A32', 'B4', 'B80', 'A31', 'D36', 'D15', 'C93', 'C78', 'D35',\n",
       "       'C87', 'B77', 'E67', 'B94', 'C125', 'C99', 'C118', 'D7', 'A19',\n",
       "       'B49', 'D', 'C22 C26', 'C106', 'C65', 'E36', 'C54',\n",
       "       'B57 B59 B63 B66', 'C7', 'E34', 'C32', 'B18', 'C124', 'C91', 'E40',\n",
       "       'T', 'C128', 'D37', 'B35', 'E50', 'C82', 'B96 B98', 'E10', 'E44',\n",
       "       'A34', 'C104', 'C111', 'C92', 'E38', 'D21', 'E12', 'E63', 'A14',\n",
       "       'B37', 'C30', 'D20', 'B79', 'E25', 'D46', 'B73', 'C95', 'B38',\n",
       "       'B39', 'B22', 'C86', 'C70', 'A16', 'C101', 'C68', 'A10', 'E68',\n",
       "       'B41', 'A20', 'D19', 'D50', 'D9', 'A23', 'B50', 'A26', 'D48',\n",
       "       'E58', 'C126', 'B71', 'B51 B53 B55', 'D49', 'B5', 'B20', 'F G63',\n",
       "       'C62 C64', 'E24', 'C90', 'C45', 'E8', 'B101', 'D45', 'C46', 'D30',\n",
       "       'E121', 'D11', 'E77', 'F38', 'B3', 'D6', 'B82 B84', 'D17', 'A36',\n",
       "       'B102', 'B69', 'E49', 'C47', 'D28', 'E17', 'A24', 'C50', 'B42',\n",
       "       'C148'], dtype=object)"
      ]
     },
     "execution_count": 6,
     "metadata": {},
     "output_type": "execute_result"
    }
   ],
   "source": [
    "data.Cabin.unique()"
   ]
  },
  {
   "cell_type": "code",
   "execution_count": 7,
   "id": "bf5dbc18",
   "metadata": {
    "execution": {
     "iopub.execute_input": "2024-01-01T05:59:45.878820Z",
     "iopub.status.busy": "2024-01-01T05:59:45.878361Z",
     "iopub.status.idle": "2024-01-01T05:59:45.880950Z",
     "shell.execute_reply": "2024-01-01T05:59:45.880554Z",
     "shell.execute_reply.started": "2024-01-01T05:54:37.639262Z"
    },
    "papermill": {
     "duration": 0.039847,
     "end_time": "2024-01-01T05:59:45.881055",
     "exception": false,
     "start_time": "2024-01-01T05:59:45.841208",
     "status": "completed"
    },
    "tags": []
   },
   "outputs": [
    {
     "data": {
      "text/plain": [
       "['n', 'C', 'E', 'G', 'D', 'A', 'B', 'F', 'T']"
      ]
     },
     "execution_count": 7,
     "metadata": {},
     "output_type": "execute_result"
    }
   ],
   "source": [
    "def show_decks(df):\n",
    "    temp = []\n",
    "    for i in df['Cabin'].unique():\n",
    "        a = str(i)[0]\n",
    "        if a not in temp:\n",
    "            temp.append(a)\n",
    "    return temp\n",
    "\n",
    "show_decks(data)"
   ]
  },
  {
   "cell_type": "markdown",
   "id": "0b1251ff",
   "metadata": {
    "papermill": {
     "duration": 0.031604,
     "end_time": "2024-01-01T05:59:45.946044",
     "exception": false,
     "start_time": "2024-01-01T05:59:45.914440",
     "status": "completed"
    },
    "tags": []
   },
   "source": [
    "![](http://upload.wikimedia.org/wikipedia/commons/0/0d/Olympic_%26_Titanic_cutaway_diagram.png)"
   ]
  },
  {
   "cell_type": "markdown",
   "id": "e9d76615",
   "metadata": {
    "papermill": {
     "duration": 0.031902,
     "end_time": "2024-01-01T05:59:46.009989",
     "exception": false,
     "start_time": "2024-01-01T05:59:45.978087",
     "status": "completed"
    },
    "tags": []
   },
   "source": [
    "### Implementing Cabin Transformer\n",
    "* Extract the first alphabetic character of the Cabin which is a deck of the ship\n",
    "* Group the decks level wise from top to bottom"
   ]
  },
  {
   "cell_type": "code",
   "execution_count": 8,
   "id": "6e5a902a",
   "metadata": {
    "execution": {
     "iopub.execute_input": "2024-01-01T05:59:46.080898Z",
     "iopub.status.busy": "2024-01-01T05:59:46.080425Z",
     "iopub.status.idle": "2024-01-01T05:59:46.168484Z",
     "shell.execute_reply": "2024-01-01T05:59:46.168852Z",
     "shell.execute_reply.started": "2024-01-01T05:54:37.652099Z"
    },
    "papermill": {
     "duration": 0.126881,
     "end_time": "2024-01-01T05:59:46.168983",
     "exception": false,
     "start_time": "2024-01-01T05:59:46.042102",
     "status": "completed"
    },
    "tags": []
   },
   "outputs": [],
   "source": [
    "from sklearn.base import BaseEstimator, TransformerMixin\n",
    "\n",
    "class CabinTransformer(BaseEstimator, TransformerMixin):\n",
    "    def fit(self, df):\n",
    "        return self\n",
    "    \n",
    "    def extract_cabin(self, cabin):\n",
    "        cabin = str(cabin)\n",
    "        if cabin=='nan':\n",
    "            return 'U'\n",
    "        else:\n",
    "            return cabin[0]\n",
    "\n",
    "    def group_deck(self, deck):\n",
    "        if deck in ['A','B','C','T']:\n",
    "            return 'ABC'  # Top 3 Decks\n",
    "        elif deck in ['D','E']:\n",
    "            return 'DE'  # Next 2 Decks from top\n",
    "        elif deck in ['F','G']:\n",
    "            return 'FG'  # Bottom 2 Decks\n",
    "        else:\n",
    "            return 'U'\n",
    "        \n",
    "    def transform(self, df):\n",
    "        df1 = df.copy()\n",
    "        df1['Cabin'] = df1['Cabin'].apply(self.extract_cabin)\n",
    "        df1['Cabin'] = df1['Cabin'].apply(self.group_deck)\n",
    "        \n",
    "        cabin_maps = {'ABC':0, 'DE':1, 'FG':2, 'U':3}\n",
    "        df1['Cabin'] = df1['Cabin'].map(cabin_maps)\n",
    "        return df1"
   ]
  },
  {
   "cell_type": "code",
   "execution_count": 9,
   "id": "c194025e",
   "metadata": {
    "execution": {
     "iopub.execute_input": "2024-01-01T05:59:46.236988Z",
     "iopub.status.busy": "2024-01-01T05:59:46.236501Z",
     "iopub.status.idle": "2024-01-01T05:59:46.249035Z",
     "shell.execute_reply": "2024-01-01T05:59:46.249358Z",
     "shell.execute_reply.started": "2024-01-01T05:54:37.664622Z"
    },
    "papermill": {
     "duration": 0.048431,
     "end_time": "2024-01-01T05:59:46.249467",
     "exception": false,
     "start_time": "2024-01-01T05:59:46.201036",
     "status": "completed"
    },
    "tags": []
   },
   "outputs": [
    {
     "data": {
      "text/html": [
       "<div>\n",
       "<style scoped>\n",
       "    .dataframe tbody tr th:only-of-type {\n",
       "        vertical-align: middle;\n",
       "    }\n",
       "\n",
       "    .dataframe tbody tr th {\n",
       "        vertical-align: top;\n",
       "    }\n",
       "\n",
       "    .dataframe thead th {\n",
       "        text-align: right;\n",
       "    }\n",
       "</style>\n",
       "<table border=\"1\" class=\"dataframe\">\n",
       "  <thead>\n",
       "    <tr style=\"text-align: right;\">\n",
       "      <th></th>\n",
       "      <th>Survived</th>\n",
       "      <th>Pclass</th>\n",
       "      <th>Name</th>\n",
       "      <th>Sex</th>\n",
       "      <th>Age</th>\n",
       "      <th>SibSp</th>\n",
       "      <th>Parch</th>\n",
       "      <th>Fare</th>\n",
       "      <th>Cabin</th>\n",
       "      <th>Embarked</th>\n",
       "    </tr>\n",
       "  </thead>\n",
       "  <tbody>\n",
       "    <tr>\n",
       "      <th>0</th>\n",
       "      <td>0</td>\n",
       "      <td>3</td>\n",
       "      <td>Braund, Mr. Owen Harris</td>\n",
       "      <td>male</td>\n",
       "      <td>22.0</td>\n",
       "      <td>1</td>\n",
       "      <td>0</td>\n",
       "      <td>7.2500</td>\n",
       "      <td>3</td>\n",
       "      <td>S</td>\n",
       "    </tr>\n",
       "    <tr>\n",
       "      <th>1</th>\n",
       "      <td>1</td>\n",
       "      <td>1</td>\n",
       "      <td>Cumings, Mrs. John Bradley (Florence Briggs Th...</td>\n",
       "      <td>female</td>\n",
       "      <td>38.0</td>\n",
       "      <td>1</td>\n",
       "      <td>0</td>\n",
       "      <td>71.2833</td>\n",
       "      <td>0</td>\n",
       "      <td>C</td>\n",
       "    </tr>\n",
       "    <tr>\n",
       "      <th>2</th>\n",
       "      <td>1</td>\n",
       "      <td>3</td>\n",
       "      <td>Heikkinen, Miss. Laina</td>\n",
       "      <td>female</td>\n",
       "      <td>26.0</td>\n",
       "      <td>0</td>\n",
       "      <td>0</td>\n",
       "      <td>7.9250</td>\n",
       "      <td>3</td>\n",
       "      <td>S</td>\n",
       "    </tr>\n",
       "    <tr>\n",
       "      <th>3</th>\n",
       "      <td>1</td>\n",
       "      <td>1</td>\n",
       "      <td>Futrelle, Mrs. Jacques Heath (Lily May Peel)</td>\n",
       "      <td>female</td>\n",
       "      <td>35.0</td>\n",
       "      <td>1</td>\n",
       "      <td>0</td>\n",
       "      <td>53.1000</td>\n",
       "      <td>0</td>\n",
       "      <td>S</td>\n",
       "    </tr>\n",
       "    <tr>\n",
       "      <th>4</th>\n",
       "      <td>0</td>\n",
       "      <td>3</td>\n",
       "      <td>Allen, Mr. William Henry</td>\n",
       "      <td>male</td>\n",
       "      <td>35.0</td>\n",
       "      <td>0</td>\n",
       "      <td>0</td>\n",
       "      <td>8.0500</td>\n",
       "      <td>3</td>\n",
       "      <td>S</td>\n",
       "    </tr>\n",
       "  </tbody>\n",
       "</table>\n",
       "</div>"
      ],
      "text/plain": [
       "   Survived  Pclass                                               Name  \\\n",
       "0         0       3                            Braund, Mr. Owen Harris   \n",
       "1         1       1  Cumings, Mrs. John Bradley (Florence Briggs Th...   \n",
       "2         1       3                             Heikkinen, Miss. Laina   \n",
       "3         1       1       Futrelle, Mrs. Jacques Heath (Lily May Peel)   \n",
       "4         0       3                           Allen, Mr. William Henry   \n",
       "\n",
       "      Sex   Age  SibSp  Parch     Fare  Cabin Embarked  \n",
       "0    male  22.0      1      0   7.2500      3        S  \n",
       "1  female  38.0      1      0  71.2833      0        C  \n",
       "2  female  26.0      0      0   7.9250      3        S  \n",
       "3  female  35.0      1      0  53.1000      0        S  \n",
       "4    male  35.0      0      0   8.0500      3        S  "
      ]
     },
     "execution_count": 9,
     "metadata": {},
     "output_type": "execute_result"
    }
   ],
   "source": [
    "CabinTransformer().fit_transform(data).head()"
   ]
  },
  {
   "cell_type": "code",
   "execution_count": 10,
   "id": "36875c06",
   "metadata": {
    "execution": {
     "iopub.execute_input": "2024-01-01T05:59:46.319724Z",
     "iopub.status.busy": "2024-01-01T05:59:46.318042Z",
     "iopub.status.idle": "2024-01-01T05:59:46.553247Z",
     "shell.execute_reply": "2024-01-01T05:59:46.552822Z",
     "shell.execute_reply.started": "2024-01-01T05:54:37.687801Z"
    },
    "papermill": {
     "duration": 0.271465,
     "end_time": "2024-01-01T05:59:46.553359",
     "exception": false,
     "start_time": "2024-01-01T05:59:46.281894",
     "status": "completed"
    },
    "tags": []
   },
   "outputs": [
    {
     "data": {
      "text/plain": [
       "<AxesSubplot:xlabel='Cabin', ylabel='count'>"
      ]
     },
     "execution_count": 10,
     "metadata": {},
     "output_type": "execute_result"
    },
    {
     "data": {
      "image/png": "[encoded data removed]",
      "text/plain": [
       "<Figure size 432x288 with 1 Axes>"
      ]
     },
     "metadata": {
      "needs_background": "light"
     },
     "output_type": "display_data"
    }
   ],
   "source": [
    "sns.countplot(x='Cabin',hue = 'Survived', data=CabinTransformer().fit_transform(data))"
   ]
  },
  {
   "cell_type": "markdown",
   "id": "4d9db241",
   "metadata": {
    "papermill": {
     "duration": 0.032816,
     "end_time": "2024-01-01T05:59:46.619131",
     "exception": false,
     "start_time": "2024-01-01T05:59:46.586315",
     "status": "completed"
    },
    "tags": []
   },
   "source": [
    "## Name\n",
    "Name of the passenger contains his/her title and Rank on the ship will be a usefull information"
   ]
  },
  {
   "cell_type": "code",
   "execution_count": 11,
   "id": "94fed9fe",
   "metadata": {
    "execution": {
     "iopub.execute_input": "2024-01-01T05:59:46.690269Z",
     "iopub.status.busy": "2024-01-01T05:59:46.689819Z",
     "iopub.status.idle": "2024-01-01T05:59:46.692316Z",
     "shell.execute_reply": "2024-01-01T05:59:46.692713Z",
     "shell.execute_reply.started": "2024-01-01T05:54:37.956814Z"
    },
    "papermill": {
     "duration": 0.04053,
     "end_time": "2024-01-01T05:59:46.692841",
     "exception": false,
     "start_time": "2024-01-01T05:59:46.652311",
     "status": "completed"
    },
    "tags": []
   },
   "outputs": [
    {
     "name": "stdout",
     "output_type": "stream",
     "text": [
      "Titles present on the ship:\n",
      " ['Mr', 'Mrs', 'Miss', 'Master', 'Don', 'Rev', 'Dr', 'Mme', 'Ms', 'Major', 'Lady', 'Sir', 'Mlle', 'Col', 'Capt', 'the Countess', 'Jonkheer']\n"
     ]
    }
   ],
   "source": [
    "temp = []\n",
    "for name in data['Name']:\n",
    "    a = name.split(', ')[1].split('.')[0]\n",
    "    if a not in temp:\n",
    "        temp.append(a)\n",
    "print('Titles present on the ship:\\n', temp)"
   ]
  },
  {
   "cell_type": "markdown",
   "id": "a455b106",
   "metadata": {
    "papermill": {
     "duration": 0.033535,
     "end_time": "2024-01-01T05:59:46.759727",
     "exception": false,
     "start_time": "2024-01-01T05:59:46.726192",
     "status": "completed"
    },
    "tags": []
   },
   "source": [
    "### Implementing Name Column Transformer\n",
    "* Extract titles from the name of the passenger\n",
    "* Group the titles according to Rank they hold"
   ]
  },
  {
   "cell_type": "code",
   "execution_count": 12,
   "id": "bbee6e0d",
   "metadata": {
    "execution": {
     "iopub.execute_input": "2024-01-01T05:59:46.834136Z",
     "iopub.status.busy": "2024-01-01T05:59:46.833651Z",
     "iopub.status.idle": "2024-01-01T05:59:46.835334Z",
     "shell.execute_reply": "2024-01-01T05:59:46.835650Z",
     "shell.execute_reply.started": "2024-01-01T05:54:37.962786Z"
    },
    "papermill": {
     "duration": 0.042444,
     "end_time": "2024-01-01T05:59:46.835777",
     "exception": false,
     "start_time": "2024-01-01T05:59:46.793333",
     "status": "completed"
    },
    "tags": []
   },
   "outputs": [],
   "source": [
    "class CustomAttributeTitle(BaseEstimator, TransformerMixin):\n",
    "    def fit(self, df):\n",
    "        return self\n",
    "    \n",
    "    def title(self, name):\n",
    "        return name.split(', ')[1].split('.')[0]\n",
    "    \n",
    "    def group(self, title):\n",
    "        if title in ['Miss', 'Mlle', 'Ms']:\n",
    "            return 'Miss'\n",
    "        \n",
    "        if title in ['Mrs', 'Mme']:\n",
    "            return 'Mrs'\n",
    "        \n",
    "        if title in ['Lady', 'the Countess','Capt', 'Col','Don', 'Dr', 'Major', 'Rev', 'Sir', 'Jonkheer', 'Dona']:\n",
    "            return 'Rare'\n",
    "        \n",
    "        else:\n",
    "            return title\n",
    "        \n",
    "    \n",
    "    def transform(self, df):\n",
    "        df1 = df.copy()\n",
    "        df1['Title'] = df1['Name'].apply(self.title)\n",
    "        df1['Title'] = df1['Title'].apply(self.group)\n",
    "        \n",
    "        title_mapping = {\"Mr\": 1, \"Miss\": 2, \"Mrs\": 3, \"Master\": 4, \"Rare\": 0}\n",
    "        df1['Title'] = df1['Title'].map(title_mapping)\n",
    "        df1['Title'] = df1['Title'].fillna(0)\n",
    "        df1 = df1.drop('Name', axis=1)\n",
    "        \n",
    "        return df1"
   ]
  },
  {
   "cell_type": "code",
   "execution_count": 13,
   "id": "a9d77e8b",
   "metadata": {
    "execution": {
     "iopub.execute_input": "2024-01-01T05:59:46.917172Z",
     "iopub.status.busy": "2024-01-01T05:59:46.916720Z",
     "iopub.status.idle": "2024-01-01T05:59:46.918835Z",
     "shell.execute_reply": "2024-01-01T05:59:46.919168Z",
     "shell.execute_reply.started": "2024-01-01T05:54:37.975277Z"
    },
    "papermill": {
     "duration": 0.049773,
     "end_time": "2024-01-01T05:59:46.919278",
     "exception": false,
     "start_time": "2024-01-01T05:59:46.869505",
     "status": "completed"
    },
    "tags": []
   },
   "outputs": [
    {
     "data": {
      "text/html": [
       "<div>\n",
       "<style scoped>\n",
       "    .dataframe tbody tr th:only-of-type {\n",
       "        vertical-align: middle;\n",
       "    }\n",
       "\n",
       "    .dataframe tbody tr th {\n",
       "        vertical-align: top;\n",
       "    }\n",
       "\n",
       "    .dataframe thead th {\n",
       "        text-align: right;\n",
       "    }\n",
       "</style>\n",
       "<table border=\"1\" class=\"dataframe\">\n",
       "  <thead>\n",
       "    <tr style=\"text-align: right;\">\n",
       "      <th></th>\n",
       "      <th>Survived</th>\n",
       "      <th>Pclass</th>\n",
       "      <th>Sex</th>\n",
       "      <th>Age</th>\n",
       "      <th>SibSp</th>\n",
       "      <th>Parch</th>\n",
       "      <th>Fare</th>\n",
       "      <th>Cabin</th>\n",
       "      <th>Embarked</th>\n",
       "      <th>Title</th>\n",
       "    </tr>\n",
       "  </thead>\n",
       "  <tbody>\n",
       "    <tr>\n",
       "      <th>0</th>\n",
       "      <td>0</td>\n",
       "      <td>3</td>\n",
       "      <td>male</td>\n",
       "      <td>22.0</td>\n",
       "      <td>1</td>\n",
       "      <td>0</td>\n",
       "      <td>7.2500</td>\n",
       "      <td>NaN</td>\n",
       "      <td>S</td>\n",
       "      <td>1</td>\n",
       "    </tr>\n",
       "    <tr>\n",
       "      <th>1</th>\n",
       "      <td>1</td>\n",
       "      <td>1</td>\n",
       "      <td>female</td>\n",
       "      <td>38.0</td>\n",
       "      <td>1</td>\n",
       "      <td>0</td>\n",
       "      <td>71.2833</td>\n",
       "      <td>C85</td>\n",
       "      <td>C</td>\n",
       "      <td>3</td>\n",
       "    </tr>\n",
       "    <tr>\n",
       "      <th>2</th>\n",
       "      <td>1</td>\n",
       "      <td>3</td>\n",
       "      <td>female</td>\n",
       "      <td>26.0</td>\n",
       "      <td>0</td>\n",
       "      <td>0</td>\n",
       "      <td>7.9250</td>\n",
       "      <td>NaN</td>\n",
       "      <td>S</td>\n",
       "      <td>2</td>\n",
       "    </tr>\n",
       "    <tr>\n",
       "      <th>3</th>\n",
       "      <td>1</td>\n",
       "      <td>1</td>\n",
       "      <td>female</td>\n",
       "      <td>35.0</td>\n",
       "      <td>1</td>\n",
       "      <td>0</td>\n",
       "      <td>53.1000</td>\n",
       "      <td>C123</td>\n",
       "      <td>S</td>\n",
       "      <td>3</td>\n",
       "    </tr>\n",
       "    <tr>\n",
       "      <th>4</th>\n",
       "      <td>0</td>\n",
       "      <td>3</td>\n",
       "      <td>male</td>\n",
       "      <td>35.0</td>\n",
       "      <td>0</td>\n",
       "      <td>0</td>\n",
       "      <td>8.0500</td>\n",
       "      <td>NaN</td>\n",
       "      <td>S</td>\n",
       "      <td>1</td>\n",
       "    </tr>\n",
       "  </tbody>\n",
       "</table>\n",
       "</div>"
      ],
      "text/plain": [
       "   Survived  Pclass     Sex   Age  SibSp  Parch     Fare Cabin Embarked  Title\n",
       "0         0       3    male  22.0      1      0   7.2500   NaN        S      1\n",
       "1         1       1  female  38.0      1      0  71.2833   C85        C      3\n",
       "2         1       3  female  26.0      0      0   7.9250   NaN        S      2\n",
       "3         1       1  female  35.0      1      0  53.1000  C123        S      3\n",
       "4         0       3    male  35.0      0      0   8.0500   NaN        S      1"
      ]
     },
     "execution_count": 13,
     "metadata": {},
     "output_type": "execute_result"
    }
   ],
   "source": [
    "CustomAttributeTitle().fit_transform(data).head()"
   ]
  },
  {
   "cell_type": "code",
   "execution_count": 14,
   "id": "15aafab4",
   "metadata": {
    "execution": {
     "iopub.execute_input": "2024-01-01T05:59:46.994520Z",
     "iopub.status.busy": "2024-01-01T05:59:46.993887Z",
     "iopub.status.idle": "2024-01-01T05:59:47.210133Z",
     "shell.execute_reply": "2024-01-01T05:59:47.209770Z",
     "shell.execute_reply.started": "2024-01-01T05:54:38.000955Z"
    },
    "papermill": {
     "duration": 0.255947,
     "end_time": "2024-01-01T05:59:47.210230",
     "exception": false,
     "start_time": "2024-01-01T05:59:46.954283",
     "status": "completed"
    },
    "tags": []
   },
   "outputs": [
    {
     "data": {
      "text/plain": [
       "<AxesSubplot:xlabel='Title', ylabel='count'>"
      ]
     },
     "execution_count": 14,
     "metadata": {},
     "output_type": "execute_result"
    },
    {
     "data": {
      "image/png": "[encoded data removed]",
      "text/plain": [
       "<Figure size 432x288 with 1 Axes>"
      ]
     },
     "metadata": {
      "needs_background": "light"
     },
     "output_type": "display_data"
    }
   ],
   "source": [
    "#f = plt.figure(figsize=(12,8))\n",
    "sns.countplot(x='Title',hue = 'Survived', data=CustomAttributeTitle().fit_transform(data))"
   ]
  },
  {
   "cell_type": "markdown",
   "id": "0e0c123d",
   "metadata": {
    "papermill": {
     "duration": 0.034496,
     "end_time": "2024-01-01T05:59:47.279273",
     "exception": false,
     "start_time": "2024-01-01T05:59:47.244777",
     "status": "completed"
    },
    "tags": []
   },
   "source": [
    "## Age"
   ]
  },
  {
   "cell_type": "code",
   "execution_count": 15,
   "id": "32d310c7",
   "metadata": {
    "execution": {
     "iopub.execute_input": "2024-01-01T05:59:47.365728Z",
     "iopub.status.busy": "2024-01-01T05:59:47.365254Z",
     "iopub.status.idle": "2024-01-01T05:59:47.565139Z",
     "shell.execute_reply": "2024-01-01T05:59:47.565462Z",
     "shell.execute_reply.started": "2024-01-01T05:54:38.162307Z"
    },
    "papermill": {
     "duration": 0.251553,
     "end_time": "2024-01-01T05:59:47.565572",
     "exception": false,
     "start_time": "2024-01-01T05:59:47.314019",
     "status": "completed"
    },
    "tags": []
   },
   "outputs": [
    {
     "data": {
      "text/plain": [
       "array([ 0.42 , 16.336, 32.252, 48.168, 64.084, 80.   ])"
      ]
     },
     "execution_count": 15,
     "metadata": {},
     "output_type": "execute_result"
    },
    {
     "data": {
      "image/png": "[encoded data removed]",
      "text/plain": [
       "<Figure size 432x288 with 1 Axes>"
      ]
     },
     "metadata": {
      "needs_background": "light"
     },
     "output_type": "display_data"
    }
   ],
   "source": [
    "plt.hist(data['Age'], bins=5)[1]"
   ]
  },
  {
   "cell_type": "code",
   "execution_count": 16,
   "id": "59b7d027",
   "metadata": {
    "execution": {
     "iopub.execute_input": "2024-01-01T05:59:47.643692Z",
     "iopub.status.busy": "2024-01-01T05:59:47.640715Z",
     "iopub.status.idle": "2024-01-01T05:59:47.653393Z",
     "shell.execute_reply": "2024-01-01T05:59:47.652984Z",
     "shell.execute_reply.started": "2024-01-01T05:54:38.301157Z"
    },
    "papermill": {
     "duration": 0.052194,
     "end_time": "2024-01-01T05:59:47.653510",
     "exception": false,
     "start_time": "2024-01-01T05:59:47.601316",
     "status": "completed"
    },
    "tags": []
   },
   "outputs": [
    {
     "data": {
      "text/html": [
       "<div>\n",
       "<style scoped>\n",
       "    .dataframe tbody tr th:only-of-type {\n",
       "        vertical-align: middle;\n",
       "    }\n",
       "\n",
       "    .dataframe tbody tr th {\n",
       "        vertical-align: top;\n",
       "    }\n",
       "\n",
       "    .dataframe thead th {\n",
       "        text-align: right;\n",
       "    }\n",
       "</style>\n",
       "<table border=\"1\" class=\"dataframe\">\n",
       "  <thead>\n",
       "    <tr style=\"text-align: right;\">\n",
       "      <th></th>\n",
       "      <th>AgeBand</th>\n",
       "      <th>Survived</th>\n",
       "    </tr>\n",
       "  </thead>\n",
       "  <tbody>\n",
       "    <tr>\n",
       "      <th>0</th>\n",
       "      <td>(0.34, 16.336]</td>\n",
       "      <td>0.550000</td>\n",
       "    </tr>\n",
       "    <tr>\n",
       "      <th>1</th>\n",
       "      <td>(16.336, 32.252]</td>\n",
       "      <td>0.369942</td>\n",
       "    </tr>\n",
       "    <tr>\n",
       "      <th>2</th>\n",
       "      <td>(32.252, 48.168]</td>\n",
       "      <td>0.404255</td>\n",
       "    </tr>\n",
       "    <tr>\n",
       "      <th>3</th>\n",
       "      <td>(48.168, 64.084]</td>\n",
       "      <td>0.434783</td>\n",
       "    </tr>\n",
       "    <tr>\n",
       "      <th>4</th>\n",
       "      <td>(64.084, 80.0]</td>\n",
       "      <td>0.090909</td>\n",
       "    </tr>\n",
       "  </tbody>\n",
       "</table>\n",
       "</div>"
      ],
      "text/plain": [
       "            AgeBand  Survived\n",
       "0    (0.34, 16.336]  0.550000\n",
       "1  (16.336, 32.252]  0.369942\n",
       "2  (32.252, 48.168]  0.404255\n",
       "3  (48.168, 64.084]  0.434783\n",
       "4    (64.084, 80.0]  0.090909"
      ]
     },
     "execution_count": 16,
     "metadata": {},
     "output_type": "execute_result"
    }
   ],
   "source": [
    "def AgeBand(df):\n",
    "    df1 = df.copy()\n",
    "    df1['AgeBand'] = pd.cut(df1['Age'], 5)\n",
    "    return df1[['AgeBand', 'Survived']].groupby(['AgeBand'], as_index=False).mean().sort_values(by='AgeBand', ascending=True)\n",
    "\n",
    "AgeBand(data)"
   ]
  },
  {
   "cell_type": "markdown",
   "id": "e866b0f5",
   "metadata": {
    "papermill": {
     "duration": 0.035847,
     "end_time": "2024-01-01T05:59:47.725018",
     "exception": false,
     "start_time": "2024-01-01T05:59:47.689171",
     "status": "completed"
    },
    "tags": []
   },
   "source": [
    "### Implementing Age Column transformer\n",
    "* Impute the missing values in the age column by using the median values of each title. As a result no master will be in the age of 30."
   ]
  },
  {
   "cell_type": "code",
   "execution_count": 17,
   "id": "8ee06dcb",
   "metadata": {
    "execution": {
     "iopub.execute_input": "2024-01-01T05:59:47.803064Z",
     "iopub.status.busy": "2024-01-01T05:59:47.802498Z",
     "iopub.status.idle": "2024-01-01T05:59:47.804354Z",
     "shell.execute_reply": "2024-01-01T05:59:47.804692Z",
     "shell.execute_reply.started": "2024-01-01T05:54:38.317410Z"
    },
    "papermill": {
     "duration": 0.044778,
     "end_time": "2024-01-01T05:59:47.804803",
     "exception": false,
     "start_time": "2024-01-01T05:59:47.760025",
     "status": "completed"
    },
    "tags": []
   },
   "outputs": [],
   "source": [
    "class AgeTransformer(BaseEstimator, TransformerMixin):\n",
    "    def fit(self, df):\n",
    "        self.means = {}\n",
    "        for i in df['Title'].unique():\n",
    "            m = df[df['Title']==i]['Age'].median()\n",
    "            self.means[i] = m\n",
    "        return self\n",
    "    \n",
    "    def transform(self, df):\n",
    "        df1 = df.copy()\n",
    "        index_values = df1.index.values.astype(int)\n",
    "        for i in index_values:\n",
    "            age = df1.at[i, 'Age'].astype(float)\n",
    "            if np.isnan(age):\n",
    "                title = df1.loc[i, 'Title']\n",
    "                df1.loc[i, 'Age'] = round(self.means[title], 2)\n",
    "        \n",
    "        df1[\"AgeGroup\"] = pd.cut(df1[\"Age\"], bins=[-0.001, 16.336, 32.252, 48.168, 64.084, 80.0], labels=[0,1,2,3,4])\n",
    "        df1[\"AgeGroup\"] = df1[\"AgeGroup\"].astype(int)\n",
    "\n",
    "        \n",
    "        return df1"
   ]
  },
  {
   "cell_type": "code",
   "execution_count": 18,
   "id": "579bc247",
   "metadata": {
    "execution": {
     "iopub.execute_input": "2024-01-01T05:59:47.883019Z",
     "iopub.status.busy": "2024-01-01T05:59:47.882328Z",
     "iopub.status.idle": "2024-01-01T05:59:47.949303Z",
     "shell.execute_reply": "2024-01-01T05:59:47.949622Z",
     "shell.execute_reply.started": "2024-01-01T05:54:38.326916Z"
    },
    "papermill": {
     "duration": 0.109402,
     "end_time": "2024-01-01T05:59:47.949755",
     "exception": false,
     "start_time": "2024-01-01T05:59:47.840353",
     "status": "completed"
    },
    "tags": []
   },
   "outputs": [
    {
     "data": {
      "text/html": [
       "<div>\n",
       "<style scoped>\n",
       "    .dataframe tbody tr th:only-of-type {\n",
       "        vertical-align: middle;\n",
       "    }\n",
       "\n",
       "    .dataframe tbody tr th {\n",
       "        vertical-align: top;\n",
       "    }\n",
       "\n",
       "    .dataframe thead th {\n",
       "        text-align: right;\n",
       "    }\n",
       "</style>\n",
       "<table border=\"1\" class=\"dataframe\">\n",
       "  <thead>\n",
       "    <tr style=\"text-align: right;\">\n",
       "      <th></th>\n",
       "      <th>Survived</th>\n",
       "      <th>Pclass</th>\n",
       "      <th>Sex</th>\n",
       "      <th>Age</th>\n",
       "      <th>SibSp</th>\n",
       "      <th>Parch</th>\n",
       "      <th>Fare</th>\n",
       "      <th>Cabin</th>\n",
       "      <th>Embarked</th>\n",
       "      <th>Title</th>\n",
       "      <th>AgeGroup</th>\n",
       "    </tr>\n",
       "  </thead>\n",
       "  <tbody>\n",
       "    <tr>\n",
       "      <th>0</th>\n",
       "      <td>0</td>\n",
       "      <td>3</td>\n",
       "      <td>male</td>\n",
       "      <td>22.0</td>\n",
       "      <td>1</td>\n",
       "      <td>0</td>\n",
       "      <td>7.2500</td>\n",
       "      <td>NaN</td>\n",
       "      <td>S</td>\n",
       "      <td>1</td>\n",
       "      <td>1</td>\n",
       "    </tr>\n",
       "    <tr>\n",
       "      <th>1</th>\n",
       "      <td>1</td>\n",
       "      <td>1</td>\n",
       "      <td>female</td>\n",
       "      <td>38.0</td>\n",
       "      <td>1</td>\n",
       "      <td>0</td>\n",
       "      <td>71.2833</td>\n",
       "      <td>C85</td>\n",
       "      <td>C</td>\n",
       "      <td>3</td>\n",
       "      <td>2</td>\n",
       "    </tr>\n",
       "    <tr>\n",
       "      <th>2</th>\n",
       "      <td>1</td>\n",
       "      <td>3</td>\n",
       "      <td>female</td>\n",
       "      <td>26.0</td>\n",
       "      <td>0</td>\n",
       "      <td>0</td>\n",
       "      <td>7.9250</td>\n",
       "      <td>NaN</td>\n",
       "      <td>S</td>\n",
       "      <td>2</td>\n",
       "      <td>1</td>\n",
       "    </tr>\n",
       "    <tr>\n",
       "      <th>3</th>\n",
       "      <td>1</td>\n",
       "      <td>1</td>\n",
       "      <td>female</td>\n",
       "      <td>35.0</td>\n",
       "      <td>1</td>\n",
       "      <td>0</td>\n",
       "      <td>53.1000</td>\n",
       "      <td>C123</td>\n",
       "      <td>S</td>\n",
       "      <td>3</td>\n",
       "      <td>2</td>\n",
       "    </tr>\n",
       "    <tr>\n",
       "      <th>4</th>\n",
       "      <td>0</td>\n",
       "      <td>3</td>\n",
       "      <td>male</td>\n",
       "      <td>35.0</td>\n",
       "      <td>0</td>\n",
       "      <td>0</td>\n",
       "      <td>8.0500</td>\n",
       "      <td>NaN</td>\n",
       "      <td>S</td>\n",
       "      <td>1</td>\n",
       "      <td>2</td>\n",
       "    </tr>\n",
       "  </tbody>\n",
       "</table>\n",
       "</div>"
      ],
      "text/plain": [
       "   Survived  Pclass     Sex   Age  SibSp  Parch     Fare Cabin Embarked  \\\n",
       "0         0       3    male  22.0      1      0   7.2500   NaN        S   \n",
       "1         1       1  female  38.0      1      0  71.2833   C85        C   \n",
       "2         1       3  female  26.0      0      0   7.9250   NaN        S   \n",
       "3         1       1  female  35.0      1      0  53.1000  C123        S   \n",
       "4         0       3    male  35.0      0      0   8.0500   NaN        S   \n",
       "\n",
       "   Title  AgeGroup  \n",
       "0      1         1  \n",
       "1      3         2  \n",
       "2      2         1  \n",
       "3      3         2  \n",
       "4      1         2  "
      ]
     },
     "execution_count": 18,
     "metadata": {},
     "output_type": "execute_result"
    }
   ],
   "source": [
    "AgeTransformer().fit_transform(CustomAttributeTitle().fit_transform(data)).head()"
   ]
  },
  {
   "cell_type": "markdown",
   "id": "370a4d59",
   "metadata": {
    "papermill": {
     "duration": 0.035894,
     "end_time": "2024-01-01T05:59:48.021158",
     "exception": false,
     "start_time": "2024-01-01T05:59:47.985264",
     "status": "completed"
    },
    "tags": []
   },
   "source": [
    "## Custom Attributes"
   ]
  },
  {
   "cell_type": "markdown",
   "id": "d15fa447",
   "metadata": {
    "papermill": {
     "duration": 0.035558,
     "end_time": "2024-01-01T05:59:48.092447",
     "exception": false,
     "start_time": "2024-01-01T05:59:48.056889",
     "status": "completed"
    },
    "tags": []
   },
   "source": [
    "### Implementing Feature extraction to create new features\n",
    "* add SibSP and Parch attributes to get family belongings or followers on the ship"
   ]
  },
  {
   "cell_type": "code",
   "execution_count": 19,
   "id": "28508f85",
   "metadata": {
    "execution": {
     "iopub.execute_input": "2024-01-01T05:59:48.169637Z",
     "iopub.status.busy": "2024-01-01T05:59:48.169188Z",
     "iopub.status.idle": "2024-01-01T05:59:48.170848Z",
     "shell.execute_reply": "2024-01-01T05:59:48.171180Z",
     "shell.execute_reply.started": "2024-01-01T05:54:38.410525Z"
    },
    "papermill": {
     "duration": 0.042907,
     "end_time": "2024-01-01T05:59:48.171290",
     "exception": false,
     "start_time": "2024-01-01T05:59:48.128383",
     "status": "completed"
    },
    "tags": []
   },
   "outputs": [],
   "source": [
    "class CustomAttributes(BaseEstimator, TransformerMixin):\n",
    "    def fit(self, df):\n",
    "        return self\n",
    "    \n",
    "    def transform(self, df):\n",
    "        df1 = df.copy()\n",
    "        df1['FamilySize'] = df1['SibSp'] + df1['Parch']\n",
    "        df1 = df1.drop(['SibSp','Parch'], axis=1)\n",
    "        \n",
    "        df1['IsAlone'] = 0\n",
    "        df1.loc[df1['FamilySize'] == 1, 'IsAlone'] = 1\n",
    "        # df1 = df1.drop('FamilySize', axis=1)\n",
    "        \n",
    "        df1['Age*Class'] = df1.Age * df1.Pclass\n",
    "        \n",
    "        return df1"
   ]
  },
  {
   "cell_type": "code",
   "execution_count": 20,
   "id": "3f21f871",
   "metadata": {
    "execution": {
     "iopub.execute_input": "2024-01-01T05:59:48.258483Z",
     "iopub.status.busy": "2024-01-01T05:59:48.247881Z",
     "iopub.status.idle": "2024-01-01T05:59:48.260517Z",
     "shell.execute_reply": "2024-01-01T05:59:48.260859Z",
     "shell.execute_reply.started": "2024-01-01T05:54:38.416409Z"
    },
    "papermill": {
     "duration": 0.052913,
     "end_time": "2024-01-01T05:59:48.260971",
     "exception": false,
     "start_time": "2024-01-01T05:59:48.208058",
     "status": "completed"
    },
    "tags": []
   },
   "outputs": [
    {
     "data": {
      "text/html": [
       "<div>\n",
       "<style scoped>\n",
       "    .dataframe tbody tr th:only-of-type {\n",
       "        vertical-align: middle;\n",
       "    }\n",
       "\n",
       "    .dataframe tbody tr th {\n",
       "        vertical-align: top;\n",
       "    }\n",
       "\n",
       "    .dataframe thead th {\n",
       "        text-align: right;\n",
       "    }\n",
       "</style>\n",
       "<table border=\"1\" class=\"dataframe\">\n",
       "  <thead>\n",
       "    <tr style=\"text-align: right;\">\n",
       "      <th></th>\n",
       "      <th>Survived</th>\n",
       "      <th>Pclass</th>\n",
       "      <th>Name</th>\n",
       "      <th>Sex</th>\n",
       "      <th>Age</th>\n",
       "      <th>Fare</th>\n",
       "      <th>Cabin</th>\n",
       "      <th>Embarked</th>\n",
       "      <th>FamilySize</th>\n",
       "      <th>IsAlone</th>\n",
       "      <th>Age*Class</th>\n",
       "    </tr>\n",
       "  </thead>\n",
       "  <tbody>\n",
       "    <tr>\n",
       "      <th>0</th>\n",
       "      <td>0</td>\n",
       "      <td>3</td>\n",
       "      <td>Braund, Mr. Owen Harris</td>\n",
       "      <td>male</td>\n",
       "      <td>22.0</td>\n",
       "      <td>7.2500</td>\n",
       "      <td>NaN</td>\n",
       "      <td>S</td>\n",
       "      <td>1</td>\n",
       "      <td>1</td>\n",
       "      <td>66.0</td>\n",
       "    </tr>\n",
       "    <tr>\n",
       "      <th>1</th>\n",
       "      <td>1</td>\n",
       "      <td>1</td>\n",
       "      <td>Cumings, Mrs. John Bradley (Florence Briggs Th...</td>\n",
       "      <td>female</td>\n",
       "      <td>38.0</td>\n",
       "      <td>71.2833</td>\n",
       "      <td>C85</td>\n",
       "      <td>C</td>\n",
       "      <td>1</td>\n",
       "      <td>1</td>\n",
       "      <td>38.0</td>\n",
       "    </tr>\n",
       "    <tr>\n",
       "      <th>2</th>\n",
       "      <td>1</td>\n",
       "      <td>3</td>\n",
       "      <td>Heikkinen, Miss. Laina</td>\n",
       "      <td>female</td>\n",
       "      <td>26.0</td>\n",
       "      <td>7.9250</td>\n",
       "      <td>NaN</td>\n",
       "      <td>S</td>\n",
       "      <td>0</td>\n",
       "      <td>0</td>\n",
       "      <td>78.0</td>\n",
       "    </tr>\n",
       "    <tr>\n",
       "      <th>3</th>\n",
       "      <td>1</td>\n",
       "      <td>1</td>\n",
       "      <td>Futrelle, Mrs. Jacques Heath (Lily May Peel)</td>\n",
       "      <td>female</td>\n",
       "      <td>35.0</td>\n",
       "      <td>53.1000</td>\n",
       "      <td>C123</td>\n",
       "      <td>S</td>\n",
       "      <td>1</td>\n",
       "      <td>1</td>\n",
       "      <td>35.0</td>\n",
       "    </tr>\n",
       "    <tr>\n",
       "      <th>4</th>\n",
       "      <td>0</td>\n",
       "      <td>3</td>\n",
       "      <td>Allen, Mr. William Henry</td>\n",
       "      <td>male</td>\n",
       "      <td>35.0</td>\n",
       "      <td>8.0500</td>\n",
       "      <td>NaN</td>\n",
       "      <td>S</td>\n",
       "      <td>0</td>\n",
       "      <td>0</td>\n",
       "      <td>105.0</td>\n",
       "    </tr>\n",
       "  </tbody>\n",
       "</table>\n",
       "</div>"
      ],
      "text/plain": [
       "   Survived  Pclass                                               Name  \\\n",
       "0         0       3                            Braund, Mr. Owen Harris   \n",
       "1         1       1  Cumings, Mrs. John Bradley (Florence Briggs Th...   \n",
       "2         1       3                             Heikkinen, Miss. Laina   \n",
       "3         1       1       Futrelle, Mrs. Jacques Heath (Lily May Peel)   \n",
       "4         0       3                           Allen, Mr. William Henry   \n",
       "\n",
       "      Sex   Age     Fare Cabin Embarked  FamilySize  IsAlone  Age*Class  \n",
       "0    male  22.0   7.2500   NaN        S           1        1       66.0  \n",
       "1  female  38.0  71.2833   C85        C           1        1       38.0  \n",
       "2  female  26.0   7.9250   NaN        S           0        0       78.0  \n",
       "3  female  35.0  53.1000  C123        S           1        1       35.0  \n",
       "4    male  35.0   8.0500   NaN        S           0        0      105.0  "
      ]
     },
     "execution_count": 20,
     "metadata": {},
     "output_type": "execute_result"
    }
   ],
   "source": [
    "CustomAttributes().fit_transform(data).head()"
   ]
  },
  {
   "cell_type": "code",
   "execution_count": 21,
   "id": "e5d7919f",
   "metadata": {
    "execution": {
     "iopub.execute_input": "2024-01-01T05:59:48.340561Z",
     "iopub.status.busy": "2024-01-01T05:59:48.339235Z",
     "iopub.status.idle": "2024-01-01T05:59:48.537057Z",
     "shell.execute_reply": "2024-01-01T05:59:48.537394Z",
     "shell.execute_reply.started": "2024-01-01T05:54:38.439064Z"
    },
    "papermill": {
     "duration": 0.240411,
     "end_time": "2024-01-01T05:59:48.537511",
     "exception": false,
     "start_time": "2024-01-01T05:59:48.297100",
     "status": "completed"
    },
    "tags": []
   },
   "outputs": [
    {
     "data": {
      "text/plain": [
       "<AxesSubplot:xlabel='IsAlone', ylabel='count'>"
      ]
     },
     "execution_count": 21,
     "metadata": {},
     "output_type": "execute_result"
    },
    {
     "data": {
      "image/png": "[encoded data removed]",
      "text/plain": [
       "<Figure size 432x288 with 1 Axes>"
      ]
     },
     "metadata": {
      "needs_background": "light"
     },
     "output_type": "display_data"
    }
   ],
   "source": [
    "sns.countplot(x='IsAlone',hue = 'Survived', data=CustomAttributes().fit_transform(data))"
   ]
  },
  {
   "cell_type": "markdown",
   "id": "f23520aa",
   "metadata": {
    "papermill": {
     "duration": 0.036451,
     "end_time": "2024-01-01T05:59:48.611040",
     "exception": false,
     "start_time": "2024-01-01T05:59:48.574589",
     "status": "completed"
    },
    "tags": []
   },
   "source": [
    "## Fare"
   ]
  },
  {
   "cell_type": "code",
   "execution_count": 22,
   "id": "c75c5f59",
   "metadata": {
    "execution": {
     "iopub.execute_input": "2024-01-01T05:59:48.704177Z",
     "iopub.status.busy": "2024-01-01T05:59:48.696932Z",
     "iopub.status.idle": "2024-01-01T05:59:48.868572Z",
     "shell.execute_reply": "2024-01-01T05:59:48.868952Z",
     "shell.execute_reply.started": "2024-01-01T05:54:38.565195Z"
    },
    "papermill": {
     "duration": 0.220383,
     "end_time": "2024-01-01T05:59:48.869081",
     "exception": false,
     "start_time": "2024-01-01T05:59:48.648698",
     "status": "completed"
    },
    "tags": []
   },
   "outputs": [
    {
     "data": {
      "text/plain": [
       "array([  0.     ,  51.23292, 102.46584, 153.69876, 204.93168, 256.1646 ,\n",
       "       307.39752, 358.63044, 409.86336, 461.09628, 512.3292 ])"
      ]
     },
     "execution_count": 22,
     "metadata": {},
     "output_type": "execute_result"
    },
    {
     "data": {
      "image/png": "[encoded data removed]",
      "text/plain": [
       "<Figure size 432x288 with 1 Axes>"
      ]
     },
     "metadata": {
      "needs_background": "light"
     },
     "output_type": "display_data"
    }
   ],
   "source": [
    "plt.hist(data['Fare'])[1]"
   ]
  },
  {
   "cell_type": "code",
   "execution_count": 23,
   "id": "56cebd2f",
   "metadata": {
    "execution": {
     "iopub.execute_input": "2024-01-01T05:59:48.956020Z",
     "iopub.status.busy": "2024-01-01T05:59:48.951837Z",
     "iopub.status.idle": "2024-01-01T05:59:48.964684Z",
     "shell.execute_reply": "2024-01-01T05:59:48.965038Z",
     "shell.execute_reply.started": "2024-01-01T05:54:38.696248Z"
    },
    "papermill": {
     "duration": 0.057369,
     "end_time": "2024-01-01T05:59:48.965180",
     "exception": false,
     "start_time": "2024-01-01T05:59:48.907811",
     "status": "completed"
    },
    "tags": []
   },
   "outputs": [
    {
     "data": {
      "text/html": [
       "<div>\n",
       "<style scoped>\n",
       "    .dataframe tbody tr th:only-of-type {\n",
       "        vertical-align: middle;\n",
       "    }\n",
       "\n",
       "    .dataframe tbody tr th {\n",
       "        vertical-align: top;\n",
       "    }\n",
       "\n",
       "    .dataframe thead th {\n",
       "        text-align: right;\n",
       "    }\n",
       "</style>\n",
       "<table border=\"1\" class=\"dataframe\">\n",
       "  <thead>\n",
       "    <tr style=\"text-align: right;\">\n",
       "      <th></th>\n",
       "      <th>FareBand</th>\n",
       "      <th>Survived</th>\n",
       "    </tr>\n",
       "  </thead>\n",
       "  <tbody>\n",
       "    <tr>\n",
       "      <th>0</th>\n",
       "      <td>(-0.001, 7.91]</td>\n",
       "      <td>0.197309</td>\n",
       "    </tr>\n",
       "    <tr>\n",
       "      <th>1</th>\n",
       "      <td>(7.91, 14.454]</td>\n",
       "      <td>0.303571</td>\n",
       "    </tr>\n",
       "    <tr>\n",
       "      <th>2</th>\n",
       "      <td>(14.454, 31.0]</td>\n",
       "      <td>0.454955</td>\n",
       "    </tr>\n",
       "    <tr>\n",
       "      <th>3</th>\n",
       "      <td>(31.0, 512.329]</td>\n",
       "      <td>0.581081</td>\n",
       "    </tr>\n",
       "  </tbody>\n",
       "</table>\n",
       "</div>"
      ],
      "text/plain": [
       "          FareBand  Survived\n",
       "0   (-0.001, 7.91]  0.197309\n",
       "1   (7.91, 14.454]  0.303571\n",
       "2   (14.454, 31.0]  0.454955\n",
       "3  (31.0, 512.329]  0.581081"
      ]
     },
     "execution_count": 23,
     "metadata": {},
     "output_type": "execute_result"
    }
   ],
   "source": [
    "def FareBand(df):\n",
    "    df1 = df.copy()\n",
    "    df1['FareBand'] = pd.qcut(df1['Fare'], 4)\n",
    "    return df1[['FareBand', 'Survived']].groupby(['FareBand'], as_index=False).mean().sort_values(by='FareBand', ascending=True)\n",
    "\n",
    "FareBand(data)"
   ]
  },
  {
   "cell_type": "markdown",
   "id": "b751a17e",
   "metadata": {
    "papermill": {
     "duration": 0.039306,
     "end_time": "2024-01-01T05:59:49.049772",
     "exception": false,
     "start_time": "2024-01-01T05:59:49.010466",
     "status": "completed"
    },
    "tags": []
   },
   "source": [
    "### Implementing Fare Column Transformer\n"
   ]
  },
  {
   "cell_type": "code",
   "execution_count": 24,
   "id": "d43245a2",
   "metadata": {
    "execution": {
     "iopub.execute_input": "2024-01-01T05:59:49.131998Z",
     "iopub.status.busy": "2024-01-01T05:59:49.131439Z",
     "iopub.status.idle": "2024-01-01T05:59:49.331262Z",
     "shell.execute_reply": "2024-01-01T05:59:49.330810Z",
     "shell.execute_reply.started": "2024-01-01T05:54:38.710611Z"
    },
    "papermill": {
     "duration": 0.243334,
     "end_time": "2024-01-01T05:59:49.331390",
     "exception": false,
     "start_time": "2024-01-01T05:59:49.088056",
     "status": "completed"
    },
    "tags": []
   },
   "outputs": [],
   "source": [
    "from sklearn.impute import SimpleImputer\n",
    "class FareTransformer(BaseEstimator, TransformerMixin):\n",
    "    def fit(self, df):\n",
    "        return self\n",
    "    \n",
    "    def transform(self, df):\n",
    "        df1 = df.copy()\n",
    "        # handle missing values\n",
    "        df1['Fare'] = SimpleImputer(strategy='mean').fit_transform(df1[['Fare']])\n",
    "        # Making bins according to distribution\n",
    "        df1[\"Fare\"] = pd.cut(df1[\"Fare\"], bins=[-0.001, 7.91, 14.454, 31.0, 512.329200], labels=[0,1,2,3])\n",
    "        df1[\"Fare\"] = df1[\"Fare\"].astype(int)\n",
    "        return df1"
   ]
  },
  {
   "cell_type": "code",
   "execution_count": 25,
   "id": "8bce156c",
   "metadata": {
    "execution": {
     "iopub.execute_input": "2024-01-01T05:59:49.418576Z",
     "iopub.status.busy": "2024-01-01T05:59:49.414085Z",
     "iopub.status.idle": "2024-01-01T05:59:49.430467Z",
     "shell.execute_reply": "2024-01-01T05:59:49.430076Z",
     "shell.execute_reply.started": "2024-01-01T05:54:38.716865Z"
    },
    "papermill": {
     "duration": 0.058991,
     "end_time": "2024-01-01T05:59:49.430568",
     "exception": false,
     "start_time": "2024-01-01T05:59:49.371577",
     "status": "completed"
    },
    "tags": []
   },
   "outputs": [
    {
     "data": {
      "text/html": [
       "<div>\n",
       "<style scoped>\n",
       "    .dataframe tbody tr th:only-of-type {\n",
       "        vertical-align: middle;\n",
       "    }\n",
       "\n",
       "    .dataframe tbody tr th {\n",
       "        vertical-align: top;\n",
       "    }\n",
       "\n",
       "    .dataframe thead th {\n",
       "        text-align: right;\n",
       "    }\n",
       "</style>\n",
       "<table border=\"1\" class=\"dataframe\">\n",
       "  <thead>\n",
       "    <tr style=\"text-align: right;\">\n",
       "      <th></th>\n",
       "      <th>Survived</th>\n",
       "      <th>Pclass</th>\n",
       "      <th>Name</th>\n",
       "      <th>Sex</th>\n",
       "      <th>Age</th>\n",
       "      <th>SibSp</th>\n",
       "      <th>Parch</th>\n",
       "      <th>Fare</th>\n",
       "      <th>Cabin</th>\n",
       "      <th>Embarked</th>\n",
       "    </tr>\n",
       "  </thead>\n",
       "  <tbody>\n",
       "    <tr>\n",
       "      <th>0</th>\n",
       "      <td>0</td>\n",
       "      <td>3</td>\n",
       "      <td>Braund, Mr. Owen Harris</td>\n",
       "      <td>male</td>\n",
       "      <td>22.0</td>\n",
       "      <td>1</td>\n",
       "      <td>0</td>\n",
       "      <td>0</td>\n",
       "      <td>NaN</td>\n",
       "      <td>S</td>\n",
       "    </tr>\n",
       "    <tr>\n",
       "      <th>1</th>\n",
       "      <td>1</td>\n",
       "      <td>1</td>\n",
       "      <td>Cumings, Mrs. John Bradley (Florence Briggs Th...</td>\n",
       "      <td>female</td>\n",
       "      <td>38.0</td>\n",
       "      <td>1</td>\n",
       "      <td>0</td>\n",
       "      <td>3</td>\n",
       "      <td>C85</td>\n",
       "      <td>C</td>\n",
       "    </tr>\n",
       "    <tr>\n",
       "      <th>2</th>\n",
       "      <td>1</td>\n",
       "      <td>3</td>\n",
       "      <td>Heikkinen, Miss. Laina</td>\n",
       "      <td>female</td>\n",
       "      <td>26.0</td>\n",
       "      <td>0</td>\n",
       "      <td>0</td>\n",
       "      <td>1</td>\n",
       "      <td>NaN</td>\n",
       "      <td>S</td>\n",
       "    </tr>\n",
       "    <tr>\n",
       "      <th>3</th>\n",
       "      <td>1</td>\n",
       "      <td>1</td>\n",
       "      <td>Futrelle, Mrs. Jacques Heath (Lily May Peel)</td>\n",
       "      <td>female</td>\n",
       "      <td>35.0</td>\n",
       "      <td>1</td>\n",
       "      <td>0</td>\n",
       "      <td>3</td>\n",
       "      <td>C123</td>\n",
       "      <td>S</td>\n",
       "    </tr>\n",
       "    <tr>\n",
       "      <th>4</th>\n",
       "      <td>0</td>\n",
       "      <td>3</td>\n",
       "      <td>Allen, Mr. William Henry</td>\n",
       "      <td>male</td>\n",
       "      <td>35.0</td>\n",
       "      <td>0</td>\n",
       "      <td>0</td>\n",
       "      <td>1</td>\n",
       "      <td>NaN</td>\n",
       "      <td>S</td>\n",
       "    </tr>\n",
       "  </tbody>\n",
       "</table>\n",
       "</div>"
      ],
      "text/plain": [
       "   Survived  Pclass                                               Name  \\\n",
       "0         0       3                            Braund, Mr. Owen Harris   \n",
       "1         1       1  Cumings, Mrs. John Bradley (Florence Briggs Th...   \n",
       "2         1       3                             Heikkinen, Miss. Laina   \n",
       "3         1       1       Futrelle, Mrs. Jacques Heath (Lily May Peel)   \n",
       "4         0       3                           Allen, Mr. William Henry   \n",
       "\n",
       "      Sex   Age  SibSp  Parch  Fare Cabin Embarked  \n",
       "0    male  22.0      1      0     0   NaN        S  \n",
       "1  female  38.0      1      0     3   C85        C  \n",
       "2  female  26.0      0      0     1   NaN        S  \n",
       "3  female  35.0      1      0     3  C123        S  \n",
       "4    male  35.0      0      0     1   NaN        S  "
      ]
     },
     "execution_count": 25,
     "metadata": {},
     "output_type": "execute_result"
    }
   ],
   "source": [
    "FareTransformer().fit_transform(data).head()"
   ]
  },
  {
   "cell_type": "code",
   "execution_count": 26,
   "id": "9c70bcae",
   "metadata": {
    "execution": {
     "iopub.execute_input": "2024-01-01T05:59:49.513737Z",
     "iopub.status.busy": "2024-01-01T05:59:49.509969Z",
     "iopub.status.idle": "2024-01-01T05:59:49.660182Z",
     "shell.execute_reply": "2024-01-01T05:59:49.659816Z",
     "shell.execute_reply.started": "2024-01-01T05:54:38.745403Z"
    },
    "papermill": {
     "duration": 0.191364,
     "end_time": "2024-01-01T05:59:49.660283",
     "exception": false,
     "start_time": "2024-01-01T05:59:49.468919",
     "status": "completed"
    },
    "tags": []
   },
   "outputs": [
    {
     "data": {
      "text/plain": [
       "<AxesSubplot:xlabel='Fare', ylabel='count'>"
      ]
     },
     "execution_count": 26,
     "metadata": {},
     "output_type": "execute_result"
    },
    {
     "data": {
      "image/png": "[encoded data removed]",
      "text/plain": [
       "<Figure size 432x288 with 1 Axes>"
      ]
     },
     "metadata": {
      "needs_background": "light"
     },
     "output_type": "display_data"
    }
   ],
   "source": [
    "sns.countplot(x='Fare', hue='Survived', data=FareTransformer().transform(data))"
   ]
  },
  {
   "cell_type": "markdown",
   "id": "9cb4ef53",
   "metadata": {
    "papermill": {
     "duration": 0.038447,
     "end_time": "2024-01-01T05:59:49.737596",
     "exception": false,
     "start_time": "2024-01-01T05:59:49.699149",
     "status": "completed"
    },
    "tags": []
   },
   "source": [
    "## Categorical Transformation"
   ]
  },
  {
   "cell_type": "code",
   "execution_count": 27,
   "id": "3d29a2d6",
   "metadata": {
    "execution": {
     "iopub.execute_input": "2024-01-01T05:59:49.822057Z",
     "iopub.status.busy": "2024-01-01T05:59:49.821491Z",
     "iopub.status.idle": "2024-01-01T05:59:49.823613Z",
     "shell.execute_reply": "2024-01-01T05:59:49.823092Z",
     "shell.execute_reply.started": "2024-01-01T05:54:38.896686Z"
    },
    "papermill": {
     "duration": 0.046418,
     "end_time": "2024-01-01T05:59:49.823738",
     "exception": false,
     "start_time": "2024-01-01T05:59:49.777320",
     "status": "completed"
    },
    "tags": []
   },
   "outputs": [],
   "source": [
    "from sklearn.impute import SimpleImputer\n",
    "from sklearn.preprocessing import OrdinalEncoder\n",
    "class CategoricalTransformer(BaseEstimator, TransformerMixin):\n",
    "    def fit(self, df):\n",
    "        return self\n",
    "    \n",
    "    def transform(self, df):\n",
    "        df1 = df.copy()\n",
    "        df1[['Sex','Embarked','Pclass']] = SimpleImputer(strategy='most_frequent').fit_transform(df1[['Sex','Embarked','Pclass']])\n",
    "        df1['Sex'] = df1['Sex'].map({'male':0, 'female':1})\n",
    "        df1[['Embarked','Pclass']] = OrdinalEncoder().fit_transform(df1[['Embarked','Pclass']])\n",
    "        return df1"
   ]
  },
  {
   "cell_type": "code",
   "execution_count": 28,
   "id": "58a09606",
   "metadata": {
    "execution": {
     "iopub.execute_input": "2024-01-01T05:59:49.921246Z",
     "iopub.status.busy": "2024-01-01T05:59:49.908399Z",
     "iopub.status.idle": "2024-01-01T05:59:49.923863Z",
     "shell.execute_reply": "2024-01-01T05:59:49.923435Z",
     "shell.execute_reply.started": "2024-01-01T05:54:38.902779Z"
    },
    "papermill": {
     "duration": 0.061864,
     "end_time": "2024-01-01T05:59:49.923959",
     "exception": false,
     "start_time": "2024-01-01T05:59:49.862095",
     "status": "completed"
    },
    "tags": []
   },
   "outputs": [
    {
     "data": {
      "text/html": [
       "<div>\n",
       "<style scoped>\n",
       "    .dataframe tbody tr th:only-of-type {\n",
       "        vertical-align: middle;\n",
       "    }\n",
       "\n",
       "    .dataframe tbody tr th {\n",
       "        vertical-align: top;\n",
       "    }\n",
       "\n",
       "    .dataframe thead th {\n",
       "        text-align: right;\n",
       "    }\n",
       "</style>\n",
       "<table border=\"1\" class=\"dataframe\">\n",
       "  <thead>\n",
       "    <tr style=\"text-align: right;\">\n",
       "      <th></th>\n",
       "      <th>Survived</th>\n",
       "      <th>Pclass</th>\n",
       "      <th>Name</th>\n",
       "      <th>Sex</th>\n",
       "      <th>Age</th>\n",
       "      <th>SibSp</th>\n",
       "      <th>Parch</th>\n",
       "      <th>Fare</th>\n",
       "      <th>Cabin</th>\n",
       "      <th>Embarked</th>\n",
       "    </tr>\n",
       "  </thead>\n",
       "  <tbody>\n",
       "    <tr>\n",
       "      <th>0</th>\n",
       "      <td>0</td>\n",
       "      <td>2.0</td>\n",
       "      <td>Braund, Mr. Owen Harris</td>\n",
       "      <td>0</td>\n",
       "      <td>22.0</td>\n",
       "      <td>1</td>\n",
       "      <td>0</td>\n",
       "      <td>7.2500</td>\n",
       "      <td>NaN</td>\n",
       "      <td>2.0</td>\n",
       "    </tr>\n",
       "    <tr>\n",
       "      <th>1</th>\n",
       "      <td>1</td>\n",
       "      <td>0.0</td>\n",
       "      <td>Cumings, Mrs. John Bradley (Florence Briggs Th...</td>\n",
       "      <td>1</td>\n",
       "      <td>38.0</td>\n",
       "      <td>1</td>\n",
       "      <td>0</td>\n",
       "      <td>71.2833</td>\n",
       "      <td>C85</td>\n",
       "      <td>0.0</td>\n",
       "    </tr>\n",
       "    <tr>\n",
       "      <th>2</th>\n",
       "      <td>1</td>\n",
       "      <td>2.0</td>\n",
       "      <td>Heikkinen, Miss. Laina</td>\n",
       "      <td>1</td>\n",
       "      <td>26.0</td>\n",
       "      <td>0</td>\n",
       "      <td>0</td>\n",
       "      <td>7.9250</td>\n",
       "      <td>NaN</td>\n",
       "      <td>2.0</td>\n",
       "    </tr>\n",
       "    <tr>\n",
       "      <th>3</th>\n",
       "      <td>1</td>\n",
       "      <td>0.0</td>\n",
       "      <td>Futrelle, Mrs. Jacques Heath (Lily May Peel)</td>\n",
       "      <td>1</td>\n",
       "      <td>35.0</td>\n",
       "      <td>1</td>\n",
       "      <td>0</td>\n",
       "      <td>53.1000</td>\n",
       "      <td>C123</td>\n",
       "      <td>2.0</td>\n",
       "    </tr>\n",
       "    <tr>\n",
       "      <th>4</th>\n",
       "      <td>0</td>\n",
       "      <td>2.0</td>\n",
       "      <td>Allen, Mr. William Henry</td>\n",
       "      <td>0</td>\n",
       "      <td>35.0</td>\n",
       "      <td>0</td>\n",
       "      <td>0</td>\n",
       "      <td>8.0500</td>\n",
       "      <td>NaN</td>\n",
       "      <td>2.0</td>\n",
       "    </tr>\n",
       "  </tbody>\n",
       "</table>\n",
       "</div>"
      ],
      "text/plain": [
       "   Survived  Pclass                                               Name  Sex  \\\n",
       "0         0     2.0                            Braund, Mr. Owen Harris    0   \n",
       "1         1     0.0  Cumings, Mrs. John Bradley (Florence Briggs Th...    1   \n",
       "2         1     2.0                             Heikkinen, Miss. Laina    1   \n",
       "3         1     0.0       Futrelle, Mrs. Jacques Heath (Lily May Peel)    1   \n",
       "4         0     2.0                           Allen, Mr. William Henry    0   \n",
       "\n",
       "    Age  SibSp  Parch     Fare Cabin  Embarked  \n",
       "0  22.0      1      0   7.2500   NaN       2.0  \n",
       "1  38.0      1      0  71.2833   C85       0.0  \n",
       "2  26.0      0      0   7.9250   NaN       2.0  \n",
       "3  35.0      1      0  53.1000  C123       2.0  \n",
       "4  35.0      0      0   8.0500   NaN       2.0  "
      ]
     },
     "execution_count": 28,
     "metadata": {},
     "output_type": "execute_result"
    }
   ],
   "source": [
    "CategoricalTransformer().fit_transform(data).head()"
   ]
  },
  {
   "cell_type": "markdown",
   "id": "de35c956",
   "metadata": {
    "papermill": {
     "duration": 0.039484,
     "end_time": "2024-01-01T05:59:50.002947",
     "exception": false,
     "start_time": "2024-01-01T05:59:49.963463",
     "status": "completed"
    },
    "tags": []
   },
   "source": [
    "# Transformation Pipeline"
   ]
  },
  {
   "cell_type": "code",
   "execution_count": 29,
   "id": "b4cf5f37",
   "metadata": {
    "execution": {
     "iopub.execute_input": "2024-01-01T05:59:50.085507Z",
     "iopub.status.busy": "2024-01-01T05:59:50.085062Z",
     "iopub.status.idle": "2024-01-01T05:59:50.093705Z",
     "shell.execute_reply": "2024-01-01T05:59:50.093164Z",
     "shell.execute_reply.started": "2024-01-01T05:54:38.930150Z"
    },
    "papermill": {
     "duration": 0.051796,
     "end_time": "2024-01-01T05:59:50.093825",
     "exception": false,
     "start_time": "2024-01-01T05:59:50.042029",
     "status": "completed"
    },
    "tags": []
   },
   "outputs": [],
   "source": [
    "from sklearn.pipeline import Pipeline\n",
    "from sklearn.compose import ColumnTransformer\n",
    "from sklearn.decomposition import PCA\n"
   ]
  },
  {
   "cell_type": "code",
   "execution_count": 30,
   "id": "43c81f7a",
   "metadata": {
    "execution": {
     "iopub.execute_input": "2024-01-01T05:59:50.177034Z",
     "iopub.status.busy": "2024-01-01T05:59:50.176559Z",
     "iopub.status.idle": "2024-01-01T05:59:50.178151Z",
     "shell.execute_reply": "2024-01-01T05:59:50.178464Z",
     "shell.execute_reply.started": "2024-01-01T05:54:38.934176Z"
    },
    "papermill": {
     "duration": 0.045694,
     "end_time": "2024-01-01T05:59:50.178573",
     "exception": false,
     "start_time": "2024-01-01T05:59:50.132879",
     "status": "completed"
    },
    "tags": []
   },
   "outputs": [],
   "source": [
    "labels = data['Survived']\n",
    "data = data.drop('Survived', axis=1)"
   ]
  },
  {
   "cell_type": "code",
   "execution_count": 31,
   "id": "99017153",
   "metadata": {
    "execution": {
     "iopub.execute_input": "2024-01-01T05:59:50.262376Z",
     "iopub.status.busy": "2024-01-01T05:59:50.261852Z",
     "iopub.status.idle": "2024-01-01T05:59:50.264002Z",
     "shell.execute_reply": "2024-01-01T05:59:50.263574Z",
     "shell.execute_reply.started": "2024-01-01T05:54:38.945422Z"
    },
    "papermill": {
     "duration": 0.046209,
     "end_time": "2024-01-01T05:59:50.264100",
     "exception": false,
     "start_time": "2024-01-01T05:59:50.217891",
     "status": "completed"
    },
    "tags": []
   },
   "outputs": [],
   "source": [
    "preprocess_pipeline = Pipeline([\n",
    "    ('title', CustomAttributeTitle()),\n",
    "    ('age', AgeTransformer()),\n",
    "    ('cabin', CabinTransformer()),\n",
    "    ('followers', CustomAttributes()),\n",
    "    ('fare', FareTransformer()),\n",
    "    ('encoding', CategoricalTransformer()),\n",
    "    ('pca', PCA(n_components=7))\n",
    "])\n"
   ]
  },
  {
   "cell_type": "code",
   "execution_count": 32,
   "id": "fc8ad47d",
   "metadata": {
    "execution": {
     "iopub.execute_input": "2024-01-01T05:59:50.353544Z",
     "iopub.status.busy": "2024-01-01T05:59:50.353038Z",
     "iopub.status.idle": "2024-01-01T05:59:50.355917Z",
     "shell.execute_reply": "2024-01-01T05:59:50.355510Z",
     "shell.execute_reply.started": "2024-01-01T05:54:38.956470Z"
    },
    "papermill": {
     "duration": 0.052827,
     "end_time": "2024-01-01T05:59:50.356012",
     "exception": false,
     "start_time": "2024-01-01T05:59:50.303185",
     "status": "completed"
    },
    "tags": []
   },
   "outputs": [
    {
     "data": {
      "text/html": [
       "<div>\n",
       "<style scoped>\n",
       "    .dataframe tbody tr th:only-of-type {\n",
       "        vertical-align: middle;\n",
       "    }\n",
       "\n",
       "    .dataframe tbody tr th {\n",
       "        vertical-align: top;\n",
       "    }\n",
       "\n",
       "    .dataframe thead th {\n",
       "        text-align: right;\n",
       "    }\n",
       "</style>\n",
       "<table border=\"1\" class=\"dataframe\">\n",
       "  <thead>\n",
       "    <tr style=\"text-align: right;\">\n",
       "      <th></th>\n",
       "      <th>Pclass</th>\n",
       "      <th>Name</th>\n",
       "      <th>Sex</th>\n",
       "      <th>Age</th>\n",
       "      <th>SibSp</th>\n",
       "      <th>Parch</th>\n",
       "      <th>Fare</th>\n",
       "      <th>Cabin</th>\n",
       "      <th>Embarked</th>\n",
       "    </tr>\n",
       "  </thead>\n",
       "  <tbody>\n",
       "    <tr>\n",
       "      <th>0</th>\n",
       "      <td>3</td>\n",
       "      <td>Braund, Mr. Owen Harris</td>\n",
       "      <td>male</td>\n",
       "      <td>22.0</td>\n",
       "      <td>1</td>\n",
       "      <td>0</td>\n",
       "      <td>7.2500</td>\n",
       "      <td>NaN</td>\n",
       "      <td>S</td>\n",
       "    </tr>\n",
       "    <tr>\n",
       "      <th>1</th>\n",
       "      <td>1</td>\n",
       "      <td>Cumings, Mrs. John Bradley (Florence Briggs Th...</td>\n",
       "      <td>female</td>\n",
       "      <td>38.0</td>\n",
       "      <td>1</td>\n",
       "      <td>0</td>\n",
       "      <td>71.2833</td>\n",
       "      <td>C85</td>\n",
       "      <td>C</td>\n",
       "    </tr>\n",
       "    <tr>\n",
       "      <th>2</th>\n",
       "      <td>3</td>\n",
       "      <td>Heikkinen, Miss. Laina</td>\n",
       "      <td>female</td>\n",
       "      <td>26.0</td>\n",
       "      <td>0</td>\n",
       "      <td>0</td>\n",
       "      <td>7.9250</td>\n",
       "      <td>NaN</td>\n",
       "      <td>S</td>\n",
       "    </tr>\n",
       "    <tr>\n",
       "      <th>3</th>\n",
       "      <td>1</td>\n",
       "      <td>Futrelle, Mrs. Jacques Heath (Lily May Peel)</td>\n",
       "      <td>female</td>\n",
       "      <td>35.0</td>\n",
       "      <td>1</td>\n",
       "      <td>0</td>\n",
       "      <td>53.1000</td>\n",
       "      <td>C123</td>\n",
       "      <td>S</td>\n",
       "    </tr>\n",
       "    <tr>\n",
       "      <th>4</th>\n",
       "      <td>3</td>\n",
       "      <td>Allen, Mr. William Henry</td>\n",
       "      <td>male</td>\n",
       "      <td>35.0</td>\n",
       "      <td>0</td>\n",
       "      <td>0</td>\n",
       "      <td>8.0500</td>\n",
       "      <td>NaN</td>\n",
       "      <td>S</td>\n",
       "    </tr>\n",
       "  </tbody>\n",
       "</table>\n",
       "</div>"
      ],
      "text/plain": [
       "   Pclass                                               Name     Sex   Age  \\\n",
       "0       3                            Braund, Mr. Owen Harris    male  22.0   \n",
       "1       1  Cumings, Mrs. John Bradley (Florence Briggs Th...  female  38.0   \n",
       "2       3                             Heikkinen, Miss. Laina  female  26.0   \n",
       "3       1       Futrelle, Mrs. Jacques Heath (Lily May Peel)  female  35.0   \n",
       "4       3                           Allen, Mr. William Henry    male  35.0   \n",
       "\n",
       "   SibSp  Parch     Fare Cabin Embarked  \n",
       "0      1      0   7.2500   NaN        S  \n",
       "1      1      0  71.2833   C85        C  \n",
       "2      0      0   7.9250   NaN        S  \n",
       "3      1      0  53.1000  C123        S  \n",
       "4      0      0   8.0500   NaN        S  "
      ]
     },
     "execution_count": 32,
     "metadata": {},
     "output_type": "execute_result"
    }
   ],
   "source": [
    "data.head()"
   ]
  },
  {
   "cell_type": "code",
   "execution_count": 33,
   "id": "b0698bba",
   "metadata": {
    "execution": {
     "iopub.execute_input": "2024-01-01T05:59:50.442880Z",
     "iopub.status.busy": "2024-01-01T05:59:50.441198Z",
     "iopub.status.idle": "2024-01-01T05:59:50.524278Z",
     "shell.execute_reply": "2024-01-01T05:59:50.523904Z",
     "shell.execute_reply.started": "2024-01-01T05:54:38.974618Z"
    },
    "papermill": {
     "duration": 0.128911,
     "end_time": "2024-01-01T05:59:50.524377",
     "exception": false,
     "start_time": "2024-01-01T05:59:50.395466",
     "status": "completed"
    },
    "tags": []
   },
   "outputs": [
    {
     "name": "stdout",
     "output_type": "stream",
     "text": [
      "shape of processed data: (891, 7)\n"
     ]
    }
   ],
   "source": [
    "data_processed = preprocess_pipeline.fit_transform(data)\n",
    "print('shape of processed data:', data_processed.shape)"
   ]
  },
  {
   "cell_type": "markdown",
   "id": "f38636fc",
   "metadata": {
    "papermill": {
     "duration": 0.041718,
     "end_time": "2024-01-01T05:59:50.607522",
     "exception": false,
     "start_time": "2024-01-01T05:59:50.565804",
     "status": "completed"
    },
    "tags": []
   },
   "source": [
    "# Model Selection"
   ]
  },
  {
   "cell_type": "code",
   "execution_count": 34,
   "id": "e27f90b1",
   "metadata": {
    "execution": {
     "iopub.execute_input": "2024-01-01T05:59:50.694964Z",
     "iopub.status.busy": "2024-01-01T05:59:50.694109Z",
     "iopub.status.idle": "2024-01-01T05:59:50.696847Z",
     "shell.execute_reply": "2024-01-01T05:59:50.697169Z",
     "shell.execute_reply.started": "2024-01-01T05:54:39.069465Z"
    },
    "papermill": {
     "duration": 0.047689,
     "end_time": "2024-01-01T05:59:50.697280",
     "exception": false,
     "start_time": "2024-01-01T05:59:50.649591",
     "status": "completed"
    },
    "tags": []
   },
   "outputs": [],
   "source": [
    "from sklearn.model_selection import train_test_split\n",
    "x_train, x_test, y_train, y_test = train_test_split(data_processed, labels, test_size=0.2, random_state=42)"
   ]
  },
  {
   "cell_type": "code",
   "execution_count": 35,
   "id": "29c07103",
   "metadata": {
    "execution": {
     "iopub.execute_input": "2024-01-01T05:59:50.782163Z",
     "iopub.status.busy": "2024-01-01T05:59:50.781596Z",
     "iopub.status.idle": "2024-01-01T05:59:54.542453Z",
     "shell.execute_reply": "2024-01-01T05:59:54.542933Z",
     "shell.execute_reply.started": "2024-01-01T05:54:39.074766Z"
    },
    "papermill": {
     "duration": 3.805795,
     "end_time": "2024-01-01T05:59:54.543148",
     "exception": false,
     "start_time": "2024-01-01T05:59:50.737353",
     "status": "completed"
    },
    "tags": []
   },
   "outputs": [],
   "source": [
    "from sklearn.tree import DecisionTreeClassifier, plot_tree\n",
    "from sklearn.ensemble import RandomForestClassifier, AdaBoostClassifier, GradientBoostingClassifier\n",
    "from xgboost import XGBClassifier\n",
    "from sklearn.linear_model import LogisticRegression\n",
    "from sklearn.svm import LinearSVC\n",
    "from sklearn.neighbors import KNeighborsClassifier\n",
    "from sklearn.model_selection import cross_val_score, GridSearchCV, RandomizedSearchCV\n",
    "from sklearn.metrics import accuracy_score"
   ]
  },
  {
   "cell_type": "code",
   "execution_count": 36,
   "id": "e510f8a7",
   "metadata": {
    "execution": {
     "iopub.execute_input": "2024-01-01T05:59:54.630519Z",
     "iopub.status.busy": "2024-01-01T05:59:54.630044Z",
     "iopub.status.idle": "2024-01-01T06:00:04.418090Z",
     "shell.execute_reply": "2024-01-01T06:00:04.418717Z",
     "shell.execute_reply.started": "2024-01-01T05:54:39.090870Z"
    },
    "papermill": {
     "duration": 9.835298,
     "end_time": "2024-01-01T06:00:04.418952",
     "exception": false,
     "start_time": "2024-01-01T05:59:54.583654",
     "status": "completed"
    },
    "tags": []
   },
   "outputs": [
    {
     "name": "stdout",
     "output_type": "stream",
     "text": [
      "[05:59:54] WARNING: ../src/learner.cc:1115: Starting in XGBoost 1.3.0, the default evaluation metric used with the objective 'binary:logistic' was changed from 'error' to 'logloss'. Explicitly set eval_metric if you'd like to restore the old behavior.\n",
      "[05:59:55] WARNING: ../src/learner.cc:1115: Starting in XGBoost 1.3.0, the default evaluation metric used with the objective 'binary:logistic' was changed from 'error' to 'logloss'. Explicitly set eval_metric if you'd like to restore the old behavior.\n",
      "[05:59:56] WARNING: ../src/learner.cc:1115: Starting in XGBoost 1.3.0, the default evaluation metric used with the objective 'binary:logistic' was changed from 'error' to 'logloss'. Explicitly set eval_metric if you'd like to restore the old behavior.\n",
      "[05:59:57] WARNING: ../src/learner.cc:1115: Starting in XGBoost 1.3.0, the default evaluation metric used with the objective 'binary:logistic' was changed from 'error' to 'logloss'. Explicitly set eval_metric if you'd like to restore the old behavior.\n",
      "[05:59:59] WARNING: ../src/learner.cc:1115: Starting in XGBoost 1.3.0, the default evaluation metric used with the objective 'binary:logistic' was changed from 'error' to 'logloss'. Explicitly set eval_metric if you'd like to restore the old behavior.\n",
      "[06:00:00] WARNING: ../src/learner.cc:1115: Starting in XGBoost 1.3.0, the default evaluation metric used with the objective 'binary:logistic' was changed from 'error' to 'logloss'. Explicitly set eval_metric if you'd like to restore the old behavior.\n"
     ]
    },
    {
     "name": "stderr",
     "output_type": "stream",
     "text": [
      "/opt/conda/lib/python3.7/site-packages/sklearn/svm/_base.py:977: ConvergenceWarning: Liblinear failed to converge, increase the number of iterations.\n",
      "  \"the number of iterations.\", ConvergenceWarning)\n",
      "/opt/conda/lib/python3.7/site-packages/sklearn/svm/_base.py:977: ConvergenceWarning: Liblinear failed to converge, increase the number of iterations.\n",
      "  \"the number of iterations.\", ConvergenceWarning)\n",
      "/opt/conda/lib/python3.7/site-packages/sklearn/svm/_base.py:977: ConvergenceWarning: Liblinear failed to converge, increase the number of iterations.\n",
      "  \"the number of iterations.\", ConvergenceWarning)\n",
      "/opt/conda/lib/python3.7/site-packages/sklearn/svm/_base.py:977: ConvergenceWarning: Liblinear failed to converge, increase the number of iterations.\n",
      "  \"the number of iterations.\", ConvergenceWarning)\n",
      "/opt/conda/lib/python3.7/site-packages/sklearn/svm/_base.py:977: ConvergenceWarning: Liblinear failed to converge, increase the number of iterations.\n",
      "  \"the number of iterations.\", ConvergenceWarning)\n",
      "/opt/conda/lib/python3.7/site-packages/sklearn/svm/_base.py:977: ConvergenceWarning: Liblinear failed to converge, increase the number of iterations.\n",
      "  \"the number of iterations.\", ConvergenceWarning)\n"
     ]
    },
    {
     "data": {
      "text/html": [
       "<div>\n",
       "<style scoped>\n",
       "    .dataframe tbody tr th:only-of-type {\n",
       "        vertical-align: middle;\n",
       "    }\n",
       "\n",
       "    .dataframe tbody tr th {\n",
       "        vertical-align: top;\n",
       "    }\n",
       "\n",
       "    .dataframe thead th {\n",
       "        text-align: right;\n",
       "    }\n",
       "</style>\n",
       "<table border=\"1\" class=\"dataframe\">\n",
       "  <thead>\n",
       "    <tr style=\"text-align: right;\">\n",
       "      <th></th>\n",
       "      <th>Models</th>\n",
       "      <th>Training Score</th>\n",
       "      <th>Cross val Score</th>\n",
       "    </tr>\n",
       "  </thead>\n",
       "  <tbody>\n",
       "    <tr>\n",
       "      <th>0</th>\n",
       "      <td>LogReg</td>\n",
       "      <td>0.801966</td>\n",
       "      <td>0.796326</td>\n",
       "    </tr>\n",
       "    <tr>\n",
       "      <th>1</th>\n",
       "      <td>XGBoost</td>\n",
       "      <td>0.957865</td>\n",
       "      <td>0.790692</td>\n",
       "    </tr>\n",
       "    <tr>\n",
       "      <th>2</th>\n",
       "      <td>DecisionTree</td>\n",
       "      <td>0.957865</td>\n",
       "      <td>0.738777</td>\n",
       "    </tr>\n",
       "    <tr>\n",
       "      <th>3</th>\n",
       "      <td>RandomForest</td>\n",
       "      <td>0.957865</td>\n",
       "      <td>0.813159</td>\n",
       "    </tr>\n",
       "    <tr>\n",
       "      <th>4</th>\n",
       "      <td>AdaBoost</td>\n",
       "      <td>0.856742</td>\n",
       "      <td>0.789294</td>\n",
       "    </tr>\n",
       "    <tr>\n",
       "      <th>5</th>\n",
       "      <td>GradBoost</td>\n",
       "      <td>0.921348</td>\n",
       "      <td>0.793519</td>\n",
       "    </tr>\n",
       "    <tr>\n",
       "      <th>6</th>\n",
       "      <td>KNN</td>\n",
       "      <td>0.859551</td>\n",
       "      <td>0.745730</td>\n",
       "    </tr>\n",
       "    <tr>\n",
       "      <th>7</th>\n",
       "      <td>LinearSVC</td>\n",
       "      <td>0.799157</td>\n",
       "      <td>0.778174</td>\n",
       "    </tr>\n",
       "  </tbody>\n",
       "</table>\n",
       "</div>"
      ],
      "text/plain": [
       "         Models  Training Score  Cross val Score\n",
       "0        LogReg        0.801966         0.796326\n",
       "1       XGBoost        0.957865         0.790692\n",
       "2  DecisionTree        0.957865         0.738777\n",
       "3  RandomForest        0.957865         0.813159\n",
       "4      AdaBoost        0.856742         0.789294\n",
       "5     GradBoost        0.921348         0.793519\n",
       "6           KNN        0.859551         0.745730\n",
       "7     LinearSVC        0.799157         0.778174"
      ]
     },
     "execution_count": 36,
     "metadata": {},
     "output_type": "execute_result"
    }
   ],
   "source": [
    "models = {'LogReg': LogisticRegression(),\n",
    "         'XGBoost': XGBClassifier(use_label_encoder=False),\n",
    "         'DecisionTree': DecisionTreeClassifier(),\n",
    "         'RandomForest': RandomForestClassifier(n_estimators=100),\n",
    "          'AdaBoost': AdaBoostClassifier(),\n",
    "          'GradBoost': GradientBoostingClassifier(),\n",
    "         'KNN': KNeighborsClassifier(n_neighbors=3),\n",
    "         'LinearSVC': LinearSVC(max_iter=1500)}\n",
    "\n",
    "res1, res2 = [], []\n",
    "for i in models.keys():\n",
    "    model = models[i]\n",
    "    model.fit(x_train, y_train)\n",
    "    res1.append(model.score(x_train, y_train))\n",
    "    res2.append(cross_val_score(model, x_train, y_train).mean())\n",
    "pd.DataFrame({'Models':models.keys(), 'Training Score':res1, 'Cross val Score':res2})"
   ]
  },
  {
   "cell_type": "markdown",
   "id": "4eeb6782",
   "metadata": {
    "papermill": {
     "duration": 0.041169,
     "end_time": "2024-01-01T06:00:04.502420",
     "exception": false,
     "start_time": "2024-01-01T06:00:04.461251",
     "status": "completed"
    },
    "tags": []
   },
   "source": [
    "## Logistic Regression"
   ]
  },
  {
   "cell_type": "code",
   "execution_count": 37,
   "id": "293c701e",
   "metadata": {
    "execution": {
     "iopub.execute_input": "2024-01-01T06:00:04.591836Z",
     "iopub.status.busy": "2024-01-01T06:00:04.591296Z",
     "iopub.status.idle": "2024-01-01T06:00:08.190445Z",
     "shell.execute_reply": "2024-01-01T06:00:08.190049Z",
     "shell.execute_reply.started": "2024-01-01T05:54:46.446294Z"
    },
    "papermill": {
     "duration": 3.646368,
     "end_time": "2024-01-01T06:00:08.190575",
     "exception": false,
     "start_time": "2024-01-01T06:00:04.544207",
     "status": "completed"
    },
    "tags": []
   },
   "outputs": [
    {
     "name": "stderr",
     "output_type": "stream",
     "text": [
      "/opt/conda/lib/python3.7/site-packages/sklearn/linear_model/_sag.py:330: ConvergenceWarning: The max_iter was reached which means the coef_ did not converge\n",
      "  \"the coef_ did not converge\", ConvergenceWarning)\n",
      "/opt/conda/lib/python3.7/site-packages/sklearn/linear_model/_sag.py:330: ConvergenceWarning: The max_iter was reached which means the coef_ did not converge\n",
      "  \"the coef_ did not converge\", ConvergenceWarning)\n",
      "/opt/conda/lib/python3.7/site-packages/sklearn/linear_model/_sag.py:330: ConvergenceWarning: The max_iter was reached which means the coef_ did not converge\n",
      "  \"the coef_ did not converge\", ConvergenceWarning)\n",
      "/opt/conda/lib/python3.7/site-packages/sklearn/linear_model/_sag.py:330: ConvergenceWarning: The max_iter was reached which means the coef_ did not converge\n",
      "  \"the coef_ did not converge\", ConvergenceWarning)\n",
      "/opt/conda/lib/python3.7/site-packages/sklearn/linear_model/_sag.py:330: ConvergenceWarning: The max_iter was reached which means the coef_ did not converge\n",
      "  \"the coef_ did not converge\", ConvergenceWarning)\n",
      "/opt/conda/lib/python3.7/site-packages/sklearn/linear_model/_sag.py:330: ConvergenceWarning: The max_iter was reached which means the coef_ did not converge\n",
      "  \"the coef_ did not converge\", ConvergenceWarning)\n",
      "/opt/conda/lib/python3.7/site-packages/sklearn/linear_model/_sag.py:330: ConvergenceWarning: The max_iter was reached which means the coef_ did not converge\n",
      "  \"the coef_ did not converge\", ConvergenceWarning)\n"
     ]
    },
    {
     "data": {
      "text/plain": [
       "LogisticRegression(max_iter=1000)"
      ]
     },
     "execution_count": 37,
     "metadata": {},
     "output_type": "execute_result"
    }
   ],
   "source": [
    "from sklearn.model_selection import GridSearchCV\n",
    "from sklearn.linear_model import LogisticRegression\n",
    "\n",
    "param_grid = [\n",
    "    {'penalty': ['l2', 'none'],\n",
    "     'solver': ['saga', 'lbfgs'],\n",
    "     'max_iter': [1000, 3000, 5000, 10000]}\n",
    "]\n",
    "\n",
    "lr = LogisticRegression()\n",
    "grid_search = GridSearchCV(lr, param_grid, cv=5)\n",
    "grid_search.fit(x_train, y_train)\n",
    "\n",
    "# Access the best parameters\n",
    "best_params = grid_search.best_params_\n",
    "\n",
    "# Create a new Logistic Regression model with the best parameters\n",
    "best_lr_model = LogisticRegression(**best_params)\n",
    "\n",
    "# Fit the model with the training data\n",
    "best_lr_model.fit(x_train, y_train)"
   ]
  },
  {
   "cell_type": "code",
   "execution_count": 38,
   "id": "6fa19456",
   "metadata": {
    "execution": {
     "iopub.execute_input": "2024-01-01T06:00:08.279476Z",
     "iopub.status.busy": "2024-01-01T06:00:08.279031Z",
     "iopub.status.idle": "2024-01-01T06:00:08.282119Z",
     "shell.execute_reply": "2024-01-01T06:00:08.281764Z",
     "shell.execute_reply.started": "2024-01-01T05:54:49.932336Z"
    },
    "papermill": {
     "duration": 0.049243,
     "end_time": "2024-01-01T06:00:08.282218",
     "exception": false,
     "start_time": "2024-01-01T06:00:08.232975",
     "status": "completed"
    },
    "tags": []
   },
   "outputs": [
    {
     "data": {
      "text/plain": [
       "{'max_iter': 1000, 'penalty': 'l2', 'solver': 'lbfgs'}"
      ]
     },
     "execution_count": 38,
     "metadata": {},
     "output_type": "execute_result"
    }
   ],
   "source": [
    "grid_search.best_params_"
   ]
  },
  {
   "cell_type": "code",
   "execution_count": 39,
   "id": "3f0096d3",
   "metadata": {
    "execution": {
     "iopub.execute_input": "2024-01-01T06:00:08.372604Z",
     "iopub.status.busy": "2024-01-01T06:00:08.372102Z",
     "iopub.status.idle": "2024-01-01T06:00:08.551928Z",
     "shell.execute_reply": "2024-01-01T06:00:08.551492Z",
     "shell.execute_reply.started": "2024-01-01T05:54:49.938386Z"
    },
    "papermill": {
     "duration": 0.227069,
     "end_time": "2024-01-01T06:00:08.552042",
     "exception": false,
     "start_time": "2024-01-01T06:00:08.324973",
     "status": "completed"
    },
    "tags": []
   },
   "outputs": [
    {
     "name": "stdout",
     "output_type": "stream",
     "text": [
      "[0.8041958  0.8041958  0.83098592 0.76760563 0.79577465] \n",
      "mean: 0.8005515611149414\n"
     ]
    },
    {
     "name": "stderr",
     "output_type": "stream",
     "text": [
      "/opt/conda/lib/python3.7/site-packages/sklearn/linear_model/_sag.py:330: ConvergenceWarning: The max_iter was reached which means the coef_ did not converge\n",
      "  \"the coef_ did not converge\", ConvergenceWarning)\n",
      "/opt/conda/lib/python3.7/site-packages/sklearn/linear_model/_sag.py:330: ConvergenceWarning: The max_iter was reached which means the coef_ did not converge\n",
      "  \"the coef_ did not converge\", ConvergenceWarning)\n",
      "/opt/conda/lib/python3.7/site-packages/sklearn/linear_model/_sag.py:330: ConvergenceWarning: The max_iter was reached which means the coef_ did not converge\n",
      "  \"the coef_ did not converge\", ConvergenceWarning)\n",
      "/opt/conda/lib/python3.7/site-packages/sklearn/linear_model/_sag.py:330: ConvergenceWarning: The max_iter was reached which means the coef_ did not converge\n",
      "  \"the coef_ did not converge\", ConvergenceWarning)\n",
      "/opt/conda/lib/python3.7/site-packages/sklearn/linear_model/_sag.py:330: ConvergenceWarning: The max_iter was reached which means the coef_ did not converge\n",
      "  \"the coef_ did not converge\", ConvergenceWarning)\n"
     ]
    }
   ],
   "source": [
    "lr = LogisticRegression(max_iter=500, penalty='none', solver='saga')\n",
    "cv = cross_val_score(lr, x_train, y_train, cv=5)\n",
    "print(cv, '\\nmean:', cv.mean())"
   ]
  },
  {
   "cell_type": "markdown",
   "id": "ab99c219",
   "metadata": {
    "papermill": {
     "duration": 0.042641,
     "end_time": "2024-01-01T06:00:08.637624",
     "exception": false,
     "start_time": "2024-01-01T06:00:08.594983",
     "status": "completed"
    },
    "tags": []
   },
   "source": [
    "## Decision Tree"
   ]
  },
  {
   "cell_type": "code",
   "execution_count": 40,
   "id": "26ae5d7d",
   "metadata": {
    "execution": {
     "iopub.execute_input": "2024-01-01T06:00:08.729842Z",
     "iopub.status.busy": "2024-01-01T06:00:08.729362Z",
     "iopub.status.idle": "2024-01-01T06:00:09.938728Z",
     "shell.execute_reply": "2024-01-01T06:00:09.939058Z",
     "shell.execute_reply.started": "2024-01-01T05:54:50.149650Z"
    },
    "papermill": {
     "duration": 1.259083,
     "end_time": "2024-01-01T06:00:09.939193",
     "exception": false,
     "start_time": "2024-01-01T06:00:08.680110",
     "status": "completed"
    },
    "tags": []
   },
   "outputs": [
    {
     "data": {
      "text/plain": [
       "GridSearchCV(cv=5, estimator=DecisionTreeClassifier(),\n",
       "             param_grid=[{'criterion': ['gini', 'entropy'],\n",
       "                          'max_depth': [2, 4, 6, 10],\n",
       "                          'max_features': [None, 'log2', 'sqrt'],\n",
       "                          'min_samples_leaf': [5, 10, 20, 50, 100]}])"
      ]
     },
     "execution_count": 40,
     "metadata": {},
     "output_type": "execute_result"
    }
   ],
   "source": [
    "param_grid = [{\n",
    "    'criterion':['gini','entropy'], 'max_depth':[2,4,6,10], 'min_samples_leaf':[5,10,20,50,100], 'max_features':[None, 'log2','sqrt']\n",
    "}]\n",
    "tree = DecisionTreeClassifier()\n",
    "grid_search = GridSearchCV(tree, param_grid, cv=5)\n",
    "grid_search.fit(x_train, y_train)"
   ]
  },
  {
   "cell_type": "code",
   "execution_count": 41,
   "id": "646bc486",
   "metadata": {
    "execution": {
     "iopub.execute_input": "2024-01-01T06:00:10.031079Z",
     "iopub.status.busy": "2024-01-01T06:00:10.030612Z",
     "iopub.status.idle": "2024-01-01T06:00:10.032917Z",
     "shell.execute_reply": "2024-01-01T06:00:10.033249Z",
     "shell.execute_reply.started": "2024-01-01T05:54:51.443185Z"
    },
    "papermill": {
     "duration": 0.050552,
     "end_time": "2024-01-01T06:00:10.033362",
     "exception": false,
     "start_time": "2024-01-01T06:00:09.982810",
     "status": "completed"
    },
    "tags": []
   },
   "outputs": [
    {
     "data": {
      "text/plain": [
       "{'criterion': 'entropy',\n",
       " 'max_depth': 6,\n",
       " 'max_features': None,\n",
       " 'min_samples_leaf': 10}"
      ]
     },
     "execution_count": 41,
     "metadata": {},
     "output_type": "execute_result"
    }
   ],
   "source": [
    "grid_search.best_params_"
   ]
  },
  {
   "cell_type": "code",
   "execution_count": 42,
   "id": "b6f1138f",
   "metadata": {
    "execution": {
     "iopub.execute_input": "2024-01-01T06:00:10.124116Z",
     "iopub.status.busy": "2024-01-01T06:00:10.123559Z",
     "iopub.status.idle": "2024-01-01T06:00:10.143932Z",
     "shell.execute_reply": "2024-01-01T06:00:10.144323Z",
     "shell.execute_reply.started": "2024-01-01T05:54:51.451091Z"
    },
    "papermill": {
     "duration": 0.067792,
     "end_time": "2024-01-01T06:00:10.144450",
     "exception": false,
     "start_time": "2024-01-01T06:00:10.076658",
     "status": "completed"
    },
    "tags": []
   },
   "outputs": [
    {
     "name": "stdout",
     "output_type": "stream",
     "text": [
      "[0.7972028  0.78321678 0.78873239 0.76760563 0.86619718] \n",
      "mean: 0.8005909583374372\n"
     ]
    }
   ],
   "source": [
    "lr = DecisionTreeClassifier(max_depth=6, min_samples_leaf=10, criterion='entropy')\n",
    "cv = cross_val_score(lr, x_train, y_train, cv=5)\n",
    "print(cv, '\\nmean:', cv.mean())"
   ]
  },
  {
   "cell_type": "markdown",
   "id": "3e785a7d",
   "metadata": {
    "papermill": {
     "duration": 0.043278,
     "end_time": "2024-01-01T06:00:10.231125",
     "exception": false,
     "start_time": "2024-01-01T06:00:10.187847",
     "status": "completed"
    },
    "tags": []
   },
   "source": [
    "## RandomForest"
   ]
  },
  {
   "cell_type": "code",
   "execution_count": 43,
   "id": "f185f208",
   "metadata": {
    "execution": {
     "iopub.execute_input": "2024-01-01T06:00:10.323600Z",
     "iopub.status.busy": "2024-01-01T06:00:10.323128Z",
     "iopub.status.idle": "2024-01-01T06:00:20.901161Z",
     "shell.execute_reply": "2024-01-01T06:00:20.901499Z",
     "shell.execute_reply.started": "2024-01-01T05:54:51.480127Z"
    },
    "papermill": {
     "duration": 10.627185,
     "end_time": "2024-01-01T06:00:20.901683",
     "exception": false,
     "start_time": "2024-01-01T06:00:10.274498",
     "status": "completed"
    },
    "tags": []
   },
   "outputs": [
    {
     "name": "stdout",
     "output_type": "stream",
     "text": [
      "Fitting 5 folds for each of 90 candidates, totalling 450 fits\n"
     ]
    },
    {
     "name": "stderr",
     "output_type": "stream",
     "text": [
      "[Parallel(n_jobs=-1)]: Using backend LokyBackend with 96 concurrent workers.\n",
      "[Parallel(n_jobs=-1)]: Done   8 tasks      | elapsed:    6.0s\n",
      "[Parallel(n_jobs=-1)]: Done 258 tasks      | elapsed:    8.1s\n",
      "[Parallel(n_jobs=-1)]: Done 450 out of 450 | elapsed:    9.7s finished\n"
     ]
    },
    {
     "data": {
      "text/plain": [
       "GridSearchCV(cv=5, estimator=RandomForestClassifier(), n_jobs=-1,\n",
       "             param_grid=[{'max_depth': [3, 5, 7, 10, 12],\n",
       "                          'max_features': [None, 'sqrt', 'log2'],\n",
       "                          'min_samples_leaf': [5],\n",
       "                          'min_samples_split': [10, 20],\n",
       "                          'n_estimators': [100, 200, 300]}],\n",
       "             verbose=1)"
      ]
     },
     "execution_count": 43,
     "metadata": {},
     "output_type": "execute_result"
    }
   ],
   "source": [
    "param_grid = [{\n",
    "    'n_estimators': [100, 200, 300],\n",
    "    'max_features': [None, \"sqrt\", \"log2\"],\n",
    "    'max_depth': [3,5,7,10,12],\n",
    "    'min_samples_split': [10, 20],\n",
    "    'min_samples_leaf': [5],\n",
    "}]\n",
    "\n",
    "forest = RandomForestClassifier()\n",
    "grid_search = GridSearchCV(forest, param_grid, cv=5, verbose=1, n_jobs=-1)\n",
    "grid_search.fit(x_train, y_train)"
   ]
  },
  {
   "cell_type": "code",
   "execution_count": 44,
   "id": "1fdc7331",
   "metadata": {
    "execution": {
     "iopub.execute_input": "2024-01-01T06:00:20.998034Z",
     "iopub.status.busy": "2024-01-01T06:00:20.997541Z",
     "iopub.status.idle": "2024-01-01T06:00:21.000428Z",
     "shell.execute_reply": "2024-01-01T06:00:21.000779Z",
     "shell.execute_reply.started": "2024-01-01T05:55:01.515823Z"
    },
    "papermill": {
     "duration": 0.053839,
     "end_time": "2024-01-01T06:00:21.000911",
     "exception": false,
     "start_time": "2024-01-01T06:00:20.947072",
     "status": "completed"
    },
    "tags": []
   },
   "outputs": [
    {
     "data": {
      "text/plain": [
       "{'max_depth': 7,\n",
       " 'max_features': None,\n",
       " 'min_samples_leaf': 5,\n",
       " 'min_samples_split': 10,\n",
       " 'n_estimators': 300}"
      ]
     },
     "execution_count": 44,
     "metadata": {},
     "output_type": "execute_result"
    }
   ],
   "source": [
    "grid_search.best_params_"
   ]
  },
  {
   "cell_type": "code",
   "execution_count": 45,
   "id": "24238685",
   "metadata": {
    "execution": {
     "iopub.execute_input": "2024-01-01T06:00:21.096049Z",
     "iopub.status.busy": "2024-01-01T06:00:21.095490Z",
     "iopub.status.idle": "2024-01-01T06:00:23.445159Z",
     "shell.execute_reply": "2024-01-01T06:00:23.444651Z",
     "shell.execute_reply.started": "2024-01-01T05:55:01.521101Z"
    },
    "papermill": {
     "duration": 2.399733,
     "end_time": "2024-01-01T06:00:23.445302",
     "exception": false,
     "start_time": "2024-01-01T06:00:21.045569",
     "status": "completed"
    },
    "tags": []
   },
   "outputs": [
    {
     "name": "stdout",
     "output_type": "stream",
     "text": [
      "[0.8041958  0.84615385 0.8028169  0.77464789 0.84507042] \n",
      "mean: 0.8145769723234512\n"
     ]
    }
   ],
   "source": [
    "forest = RandomForestClassifier(n_estimators=200, min_samples_split=10, min_samples_leaf=5, max_features=None, max_depth=7, bootstrap=True)\n",
    "cv = cross_val_score(forest, x_train, y_train, cv=5)\n",
    "print(cv, '\\nmean:', cv.mean())"
   ]
  },
  {
   "cell_type": "markdown",
   "id": "b6089071",
   "metadata": {
    "papermill": {
     "duration": 0.045438,
     "end_time": "2024-01-01T06:00:23.537186",
     "exception": false,
     "start_time": "2024-01-01T06:00:23.491748",
     "status": "completed"
    },
    "tags": []
   },
   "source": [
    "# Competition Submission"
   ]
  },
  {
   "cell_type": "code",
   "execution_count": 46,
   "id": "2074d5bb",
   "metadata": {
    "execution": {
     "iopub.execute_input": "2024-01-01T06:00:23.630216Z",
     "iopub.status.busy": "2024-01-01T06:00:23.629756Z",
     "iopub.status.idle": "2024-01-01T06:00:23.653238Z",
     "shell.execute_reply": "2024-01-01T06:00:23.652871Z",
     "shell.execute_reply.started": "2024-01-01T05:55:03.891695Z"
    },
    "papermill": {
     "duration": 0.071579,
     "end_time": "2024-01-01T06:00:23.653341",
     "exception": false,
     "start_time": "2024-01-01T06:00:23.581762",
     "status": "completed"
    },
    "tags": []
   },
   "outputs": [
    {
     "data": {
      "text/html": [
       "<div>\n",
       "<style scoped>\n",
       "    .dataframe tbody tr th:only-of-type {\n",
       "        vertical-align: middle;\n",
       "    }\n",
       "\n",
       "    .dataframe tbody tr th {\n",
       "        vertical-align: top;\n",
       "    }\n",
       "\n",
       "    .dataframe thead th {\n",
       "        text-align: right;\n",
       "    }\n",
       "</style>\n",
       "<table border=\"1\" class=\"dataframe\">\n",
       "  <thead>\n",
       "    <tr style=\"text-align: right;\">\n",
       "      <th></th>\n",
       "      <th>PassengerId</th>\n",
       "      <th>Pclass</th>\n",
       "      <th>Name</th>\n",
       "      <th>Sex</th>\n",
       "      <th>Age</th>\n",
       "      <th>SibSp</th>\n",
       "      <th>Parch</th>\n",
       "      <th>Ticket</th>\n",
       "      <th>Fare</th>\n",
       "      <th>Cabin</th>\n",
       "      <th>Embarked</th>\n",
       "    </tr>\n",
       "  </thead>\n",
       "  <tbody>\n",
       "    <tr>\n",
       "      <th>0</th>\n",
       "      <td>892</td>\n",
       "      <td>3</td>\n",
       "      <td>Kelly, Mr. James</td>\n",
       "      <td>male</td>\n",
       "      <td>34.5</td>\n",
       "      <td>0</td>\n",
       "      <td>0</td>\n",
       "      <td>330911</td>\n",
       "      <td>7.8292</td>\n",
       "      <td>NaN</td>\n",
       "      <td>Q</td>\n",
       "    </tr>\n",
       "    <tr>\n",
       "      <th>1</th>\n",
       "      <td>893</td>\n",
       "      <td>3</td>\n",
       "      <td>Wilkes, Mrs. James (Ellen Needs)</td>\n",
       "      <td>female</td>\n",
       "      <td>47.0</td>\n",
       "      <td>1</td>\n",
       "      <td>0</td>\n",
       "      <td>363272</td>\n",
       "      <td>7.0000</td>\n",
       "      <td>NaN</td>\n",
       "      <td>S</td>\n",
       "    </tr>\n",
       "    <tr>\n",
       "      <th>2</th>\n",
       "      <td>894</td>\n",
       "      <td>2</td>\n",
       "      <td>Myles, Mr. Thomas Francis</td>\n",
       "      <td>male</td>\n",
       "      <td>62.0</td>\n",
       "      <td>0</td>\n",
       "      <td>0</td>\n",
       "      <td>240276</td>\n",
       "      <td>9.6875</td>\n",
       "      <td>NaN</td>\n",
       "      <td>Q</td>\n",
       "    </tr>\n",
       "    <tr>\n",
       "      <th>3</th>\n",
       "      <td>895</td>\n",
       "      <td>3</td>\n",
       "      <td>Wirz, Mr. Albert</td>\n",
       "      <td>male</td>\n",
       "      <td>27.0</td>\n",
       "      <td>0</td>\n",
       "      <td>0</td>\n",
       "      <td>315154</td>\n",
       "      <td>8.6625</td>\n",
       "      <td>NaN</td>\n",
       "      <td>S</td>\n",
       "    </tr>\n",
       "    <tr>\n",
       "      <th>4</th>\n",
       "      <td>896</td>\n",
       "      <td>3</td>\n",
       "      <td>Hirvonen, Mrs. Alexander (Helga E Lindqvist)</td>\n",
       "      <td>female</td>\n",
       "      <td>22.0</td>\n",
       "      <td>1</td>\n",
       "      <td>1</td>\n",
       "      <td>3101298</td>\n",
       "      <td>12.2875</td>\n",
       "      <td>NaN</td>\n",
       "      <td>S</td>\n",
       "    </tr>\n",
       "  </tbody>\n",
       "</table>\n",
       "</div>"
      ],
      "text/plain": [
       "   PassengerId  Pclass                                          Name     Sex  \\\n",
       "0          892       3                              Kelly, Mr. James    male   \n",
       "1          893       3              Wilkes, Mrs. James (Ellen Needs)  female   \n",
       "2          894       2                     Myles, Mr. Thomas Francis    male   \n",
       "3          895       3                              Wirz, Mr. Albert    male   \n",
       "4          896       3  Hirvonen, Mrs. Alexander (Helga E Lindqvist)  female   \n",
       "\n",
       "    Age  SibSp  Parch   Ticket     Fare Cabin Embarked  \n",
       "0  34.5      0      0   330911   7.8292   NaN        Q  \n",
       "1  47.0      1      0   363272   7.0000   NaN        S  \n",
       "2  62.0      0      0   240276   9.6875   NaN        Q  \n",
       "3  27.0      0      0   315154   8.6625   NaN        S  \n",
       "4  22.0      1      1  3101298  12.2875   NaN        S  "
      ]
     },
     "execution_count": 46,
     "metadata": {},
     "output_type": "execute_result"
    }
   ],
   "source": [
    "test = pd.read_csv('/kaggle/input/titanic/test.csv')\n",
    "test.head()"
   ]
  },
  {
   "cell_type": "code",
   "execution_count": 47,
   "id": "308bc03d",
   "metadata": {
    "execution": {
     "iopub.execute_input": "2024-01-01T06:00:23.747196Z",
     "iopub.status.busy": "2024-01-01T06:00:23.746593Z",
     "iopub.status.idle": "2024-01-01T06:00:24.653174Z",
     "shell.execute_reply": "2024-01-01T06:00:24.652719Z",
     "shell.execute_reply.started": "2024-01-01T05:55:03.910953Z"
    },
    "papermill": {
     "duration": 0.954573,
     "end_time": "2024-01-01T06:00:24.653301",
     "exception": false,
     "start_time": "2024-01-01T06:00:23.698728",
     "status": "completed"
    },
    "tags": []
   },
   "outputs": [
    {
     "data": {
      "text/plain": [
       "RandomForestClassifier(max_depth=7, max_features=None, min_samples_leaf=5,\n",
       "                       min_samples_split=10, n_estimators=300)"
      ]
     },
     "execution_count": 47,
     "metadata": {},
     "output_type": "execute_result"
    }
   ],
   "source": [
    "model = RandomForestClassifier(**grid_search.best_params_)\n",
    "model.fit(data_processed, labels)"
   ]
  },
  {
   "cell_type": "code",
   "execution_count": 48,
   "id": "d9aa0423",
   "metadata": {
    "execution": {
     "iopub.execute_input": "2024-01-01T06:00:24.760164Z",
     "iopub.status.busy": "2024-01-01T06:00:24.753610Z",
     "iopub.status.idle": "2024-01-01T06:00:24.802999Z",
     "shell.execute_reply": "2024-01-01T06:00:24.802615Z",
     "shell.execute_reply.started": "2024-01-01T05:55:04.227321Z"
    },
    "papermill": {
     "duration": 0.103632,
     "end_time": "2024-01-01T06:00:24.803107",
     "exception": false,
     "start_time": "2024-01-01T06:00:24.699475",
     "status": "completed"
    },
    "tags": []
   },
   "outputs": [],
   "source": [
    "test_df = test.drop(['PassengerId','Ticket'], axis=1)\n",
    "test_processed = preprocess_pipeline.transform(test_df)"
   ]
  },
  {
   "cell_type": "code",
   "execution_count": 49,
   "id": "30fe77ed",
   "metadata": {
    "execution": {
     "iopub.execute_input": "2024-01-01T06:00:24.898876Z",
     "iopub.status.busy": "2024-01-01T06:00:24.898424Z",
     "iopub.status.idle": "2024-01-01T06:00:24.931471Z",
     "shell.execute_reply": "2024-01-01T06:00:24.931121Z",
     "shell.execute_reply.started": "2024-01-01T05:55:04.292316Z"
    },
    "papermill": {
     "duration": 0.082679,
     "end_time": "2024-01-01T06:00:24.931566",
     "exception": false,
     "start_time": "2024-01-01T06:00:24.848887",
     "status": "completed"
    },
    "tags": []
   },
   "outputs": [],
   "source": [
    "pred = model.predict(test_processed)"
   ]
  },
  {
   "cell_type": "code",
   "execution_count": 50,
   "id": "9fcf26d5",
   "metadata": {
    "execution": {
     "iopub.execute_input": "2024-01-01T06:00:25.029476Z",
     "iopub.status.busy": "2024-01-01T06:00:25.028989Z",
     "iopub.status.idle": "2024-01-01T06:00:25.033998Z",
     "shell.execute_reply": "2024-01-01T06:00:25.033531Z",
     "shell.execute_reply.started": "2024-01-01T05:55:04.309273Z"
    },
    "papermill": {
     "duration": 0.056427,
     "end_time": "2024-01-01T06:00:25.034104",
     "exception": false,
     "start_time": "2024-01-01T06:00:24.977677",
     "status": "completed"
    },
    "tags": []
   },
   "outputs": [],
   "source": [
    "submission = pd.DataFrame({'PassengerId':test['PassengerId'], 'Survived':pred})\n",
    "submission.to_csv('Submission.csv', index=False)"
   ]
  },
  {
   "cell_type": "code",
   "execution_count": 51,
   "id": "74daf7ad",
   "metadata": {
    "execution": {
     "iopub.execute_input": "2024-01-01T06:00:25.129890Z",
     "iopub.status.busy": "2024-01-01T06:00:25.129430Z",
     "iopub.status.idle": "2024-01-01T06:00:25.138507Z",
     "shell.execute_reply": "2024-01-01T06:00:25.138162Z",
     "shell.execute_reply.started": "2024-01-01T05:55:04.315602Z"
    },
    "papermill": {
     "duration": 0.058197,
     "end_time": "2024-01-01T06:00:25.138604",
     "exception": false,
     "start_time": "2024-01-01T06:00:25.080407",
     "status": "completed"
    },
    "tags": []
   },
   "outputs": [
    {
     "data": {
      "text/html": [
       "<div>\n",
       "<style scoped>\n",
       "    .dataframe tbody tr th:only-of-type {\n",
       "        vertical-align: middle;\n",
       "    }\n",
       "\n",
       "    .dataframe tbody tr th {\n",
       "        vertical-align: top;\n",
       "    }\n",
       "\n",
       "    .dataframe thead th {\n",
       "        text-align: right;\n",
       "    }\n",
       "</style>\n",
       "<table border=\"1\" class=\"dataframe\">\n",
       "  <thead>\n",
       "    <tr style=\"text-align: right;\">\n",
       "      <th></th>\n",
       "      <th>PassengerId</th>\n",
       "      <th>Survived</th>\n",
       "    </tr>\n",
       "  </thead>\n",
       "  <tbody>\n",
       "    <tr>\n",
       "      <th>0</th>\n",
       "      <td>892</td>\n",
       "      <td>0</td>\n",
       "    </tr>\n",
       "    <tr>\n",
       "      <th>1</th>\n",
       "      <td>893</td>\n",
       "      <td>0</td>\n",
       "    </tr>\n",
       "    <tr>\n",
       "      <th>2</th>\n",
       "      <td>894</td>\n",
       "      <td>0</td>\n",
       "    </tr>\n",
       "    <tr>\n",
       "      <th>3</th>\n",
       "      <td>895</td>\n",
       "      <td>0</td>\n",
       "    </tr>\n",
       "    <tr>\n",
       "      <th>4</th>\n",
       "      <td>896</td>\n",
       "      <td>1</td>\n",
       "    </tr>\n",
       "    <tr>\n",
       "      <th>...</th>\n",
       "      <td>...</td>\n",
       "      <td>...</td>\n",
       "    </tr>\n",
       "    <tr>\n",
       "      <th>413</th>\n",
       "      <td>1305</td>\n",
       "      <td>0</td>\n",
       "    </tr>\n",
       "    <tr>\n",
       "      <th>414</th>\n",
       "      <td>1306</td>\n",
       "      <td>0</td>\n",
       "    </tr>\n",
       "    <tr>\n",
       "      <th>415</th>\n",
       "      <td>1307</td>\n",
       "      <td>0</td>\n",
       "    </tr>\n",
       "    <tr>\n",
       "      <th>416</th>\n",
       "      <td>1308</td>\n",
       "      <td>0</td>\n",
       "    </tr>\n",
       "    <tr>\n",
       "      <th>417</th>\n",
       "      <td>1309</td>\n",
       "      <td>1</td>\n",
       "    </tr>\n",
       "  </tbody>\n",
       "</table>\n",
       "<p>418 rows × 2 columns</p>\n",
       "</div>"
      ],
      "text/plain": [
       "     PassengerId  Survived\n",
       "0            892         0\n",
       "1            893         0\n",
       "2            894         0\n",
       "3            895         0\n",
       "4            896         1\n",
       "..           ...       ...\n",
       "413         1305         0\n",
       "414         1306         0\n",
       "415         1307         0\n",
       "416         1308         0\n",
       "417         1309         1\n",
       "\n",
       "[418 rows x 2 columns]"
      ]
     },
     "execution_count": 51,
     "metadata": {},
     "output_type": "execute_result"
    }
   ],
   "source": [
    "pd.read_csv('Submission.csv')"
   ]
  }
 ],
 "metadata": {
  "kaggle": {
   "accelerator": "tpu1vmV38",
   "dataSources": [
    {
     "databundleVersionId": 26502,
     "sourceId": 3136,
     "sourceType": "competition"
    }
   ],
   "dockerImageVersionId": 30035,
   "isGpuEnabled": false,
   "isInternetEnabled": true,
   "language": "python",
   "sourceType": "notebook"
  },
  "kernelspec": {
   "display_name": "Python 3",
   "language": "python",
   "name": "python3"
  },
  "language_info": {
   "codemirror_mode": {
    "name": "ipython",
    "version": 3
   },
   "file_extension": ".py",
   "mimetype": "text/x-python",
   "name": "python",
   "nbconvert_exporter": "python",
   "pygments_lexer": "ipython3",
   "version": "3.7.12"
  },
  "papermill": {
   "default_parameters": {},
   "duration": 50.866014,
   "end_time": "2024-01-01T06:00:26.899982",
   "environment_variables": {},
   "exception": null,
   "input_path": "__notebook__.ipynb",
   "output_path": "__notebook__.ipynb",
   "parameters": {},
   "start_time": "2024-01-01T05:59:36.033968",
   "version": "2.3.3"
  }
 },
 "nbformat": 4,
 "nbformat_minor": 5
}
